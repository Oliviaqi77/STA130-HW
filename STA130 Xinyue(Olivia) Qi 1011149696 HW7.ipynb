{
 "cells": [
  {
   "cell_type": "markdown",
   "id": "fe3e2b9c",
   "metadata": {},
   "source": [
    "### 1. Explain succinctly in your own words (but working with a ChatBot if needed)...<br>\n",
    "\n",
    "1. the difference between **Simple Linear Regression** and **Multiple Linear Regression**; and the benefit the latter provides over the former\n",
    "\n",
    "\n",
    "2. the difference between using a **continuous variable** and an **indicator variable** in **Simple Linear Regression**; and these two **linear forms**\n",
    "\n",
    "\n",
    "3. the change that happens in the behavior of the model (i.e., the expected nature of the data it models) when a single **indicator variable** is introduced alongside a **continuous variable** to create a **Multiple Linear Regression**; and these two **linear forms** (i.e., the **Simple Linear Regression** versus the **Multiple Linear Regression**)\n",
    "\n",
    "\n",
    "4. the effect of adding an **interaction** between a **continuous** and an **indicator variable** in **Multiple Linear Regression** models; and this **linear form**\n",
    "\n",
    "\n",
    "5. the behavior of a **Multiple Linear Regression** model (i.e., the expected nature of the data it models) based only on **indicator variables** derived from a **non-binary categorical variable**; this **linear form**; and the necessarily resulting **binary variable encodings** it utilizes"
   ]
  },
  {
   "cell_type": "markdown",
   "id": "51ae2541",
   "metadata": {},
   "source": [
    "1.Simple Linear  Regression and Multiple Linear Regression:\n",
    "\n",
    "Simple Linear Regression has one predictor (independent) variable, while Multiple Linear Regression has two or more predictor variables.\n",
    "Benefit of Multiple Linear Regression: It can model more complex relationships by incorporating multiple factors that may influence the outcome, offering a more nuanced understanding of the data."
   ]
  },
  {
   "cell_type": "markdown",
   "id": "eacf51a5",
   "metadata": {},
   "source": [
    "2.Continuous and Indicator Variable in Simple Linear Regression:\n",
    "\n",
    "A continuous variable takes on a range of values, allowing for linear relationships based on numerical scales (e.g., height, weight).\n",
    "\n",
    "An indicator variable (or binary variable) only has values like 0 or 1, usually representing categorical data (e.g., gender, yes/no).\n",
    "\n",
    "Linear Forms: Using a continuous variable models a smooth linear trend, while an indicator variable shifts the regression line up or down based on category."
   ]
  },
  {
   "cell_type": "markdown",
   "id": "b9f8aa60",
   "metadata": {},
   "source": [
    "3.Effect of Adding an Indicator Variable in Multiple Linear Regression:\n",
    "\n",
    "Adding an indicator variable to a continuous one in a Multiple Linear Regression introduces a model that can differentiate between two distinct groups while accounting for trends within each.\n",
    "\n",
    "Linear Forms: In Simple Linear Regression, the relationship is a single straight line, while in Multiple Linear Regression, we get two lines depending on the indicator variable."
   ]
  },
  {
   "cell_type": "markdown",
   "id": "036d9595",
   "metadata": {},
   "source": [
    "4.Effect of Interaction Between Continuous and Indicator Variables in Multiple Linear Regression:\n",
    "\n",
    "Adding an interaction term allows the model to capture different slopes for the continuous variable based on the indicator variable's category.\n",
    "\n",
    "Linear Form: This form shows varying rates of changes within each group, making the relationship more flexible."
   ]
  },
  {
   "cell_type": "markdown",
   "id": "545f7bf4",
   "metadata": {},
   "source": [
    "5.Behavior of Multiple Linear Regression with Only Indicator Variables from a Categorical Variable:\n",
    "\n",
    "With only indicator variables from a non-binary categorical variable, the model estimates effects for each category relative to a baseline (reference category).\n",
    "\n",
    "Linear Form: The model doesn’t form a continuous trend but rather assigns distinct intercepts for each category.\n",
    "\n",
    "Binary Encodings: This setup requires binary variable encoding, where each non-reference category has a binary indicator to represent each unique group within the categorical variable.\n"
   ]
  },
  {
   "cell_type": "markdown",
   "id": "d767fb37",
   "metadata": {},
   "source": [
    "Summary of using ChatBot:\n",
    "\n",
    "https://chatgpt.com/share/672e9e56-2e78-8012-b7ae-994984dd15db\n",
    "\n",
    "Simple vs. Multiple Linear Regression: Multiple regression includes multiple predictors, capturing more complexity.\n",
    "\n",
    "Continuous vs. Indicator Variables: Continuous variables affect slopes; indicator variables shift the intercept, affecting the baseline.\n",
    "\n",
    "Adding an Indicator Variable: Adjusts the intercept by category but keeps the slope of the continuous variable the same.\n",
    "\n",
    "Adding an Interaction Term: Allows both intercept and slope to vary by category.\n",
    "\n",
    "Using Only Indicator Variables for Non-Binary Categorical Data: Uses one-hot encoding to adjust the intercept across categories."
   ]
  },
  {
   "cell_type": "markdown",
   "id": "03661f90",
   "metadata": {},
   "source": [
    "### 2. Explain in your own words (but working with a ChatBot if needed) what the specific (outcome and predictor) variables are for the scenario below; whether or not any meaningful interactions might need to be taken into account when predicting the outcome; and provide the linear forms with and without the potential interactions that might need to be considered<br>\n",
    "1. Explain how to use these two formulas to make predictions of the outcome, and give a high level explaination in general terms of the difference between predictions from the models with and without the interaction\n",
    "\n",
    "2. Explain how to update and use the implied two formulas to make predictions of the outcome if, rather than considering two continuous predictor variables, we instead suppose the advertisement budgets are simply categorized as either \"high\" or \"low\" (binary variables)"
   ]
  },
  {
   "cell_type": "markdown",
   "id": "b57da4e3",
   "metadata": {},
   "source": [
    "1. Variables, Potential Interactions, and Linear Forms\n",
    "Outcome Variable: The sales revenue (predicted outcome).\n",
    "\n",
    "Predictor Variables: The advertising budgets for different media channels (two continuous predictor variables, e.g., budget for TV and budget for social media).\n",
    "\n",
    "Interaction Consideration: There might be meaningful interactions to consider if spending on one channel amplifies the effect of the other . If this interaction exists, including an interaction term could help capture how combined ad spending influences sales.\n",
    "\n",
    "Linear Forms:\n",
    "\n",
    "Without Interaction:\n",
    "Sales=𝛽0+𝛽1×TV Budget+𝛽2×Social Media Budget\n",
    "\n",
    "With Interaction:\n",
    "Sales=𝛽0+𝛽1×TV Budget+𝛽2×Social Media Budget+𝛽3×(TV Budget×Social Media Budget)\n",
    "\n",
    "Explanation of Using These Formulas for Predictions:\n",
    "\n",
    "Without Interaction: Multiply the TV and Social Media budgets by their coefficients (𝛽1 and 𝛽2) and add them with the intercept (𝛽0). This model assumes that the impact of each budget is independent.\n",
    "\n",
    "With Interaction: Similar to above but includes an interaction term (\n",
    "𝛽3×TV Budget×Social Media Budget). This formula adjusts the prediction based on the combined effect, accounting for how the impact of one budget might depend on the level of the other.\n",
    "\n",
    "Adjusting to Categorical Budgets (\"High\" or \"Low\")\n",
    "Binary Predictors for Budgets: Let’s redefine the TV and Social Media budgets as binary indicator variables for \"high\" (1) and \"low\" (0) budget levels.\n",
    "\n",
    "Updated Linear Forms:\n",
    "\n",
    "Without Interaction:\n",
    "Sales=𝛽0+𝛽1×TV Budget (High)+𝛽2×Social Media Budget (High)\n",
    "\n",
    "With Interaction:\n",
    "Sales=𝛽0+𝛽1×TV Budget (High)+𝛽2×Social Media Budget (High)+𝛽3×(TV Budget (High)×Social Media Budget (High))\n",
    "\n",
    "Prediction Explanation:\n",
    "\n",
    "Without Interaction: Sum the intercept (𝛽0) with the effects of high budgets for TV (𝛽1) and Social Media (𝛽2), based on which budgets are high.\n",
    "\n",
    "With Interaction: Additionally consider the interaction term \n",
    "𝛽3 if both budgets are high, which models the joint effect of high spending on both platforms."
   ]
  },
  {
   "cell_type": "markdown",
   "id": "de1d5b61",
   "metadata": {},
   "source": [
    "Summary of using ChatBot:\n",
    "\n",
    "https://chatgpt.com/share/67313321-c6e8-8012-a859-a7ca54b9ec60\n",
    "\n",
    "1. **Identify Variables:** We use **sales** as the outcome variable and **advertisement budgets** for TV and radio as predictor variables. Budgets can be either continuous (dollar amount) or categorical (high/low).\n",
    "   \n",
    "2. **Model without Interaction:** Predicts sales based on the independent effect of each budget (TV and radio) on sales.\n",
    "\n",
    "3. **Model with Interaction:** Adds a term to capture the combined effect of TV and radio budgets on sales, useful if they jointly influence sales more than individually.\n",
    "\n",
    "4. **Predictions:** Use both models to compare predictions. The interaction model generally captures synergy effects, potentially improving accuracy if both budgets enhance each other's impact.\n"
   ]
  },
  {
   "cell_type": "markdown",
   "id": "923f3451",
   "metadata": {},
   "source": [
    "### 3. Use *smf* to fit *multiple linear regression* models to the course project dataset from the canadian social connection survey<br>\n"
   ]
  },
  {
   "cell_type": "code",
   "execution_count": null,
   "id": "c4d272c0",
   "metadata": {},
   "outputs": [],
   "source": [
    "import pandas as pd\n",
    "import statsmodels.formula.api as smf\n",
    "\n",
    "# Load your dataset (adjust path as needed)\n",
    "df = pd.read_csv(\"path_to_your_dataset.csv\")\n"
   ]
  },
  {
   "cell_type": "markdown",
   "id": "59e75dc2",
   "metadata": {},
   "source": [
    "Predict `DEMO_age` using some demographic identities (`DEMO_identity_*`), `COVID_prevention_*`, or `COVID_vaccinated`.\n",
    "Some Possible models:\n",
    "1. **Model 1**: Predicting `DEMO_age` based on COVID prevention behaviors and vaccination status.\n",
    "2. **Model 2**: Predicting `COVID_prevention_distancing` based on demographic factors.\n",
    "3. **Model 3**: Predicting `COVID_vaccinated` status based on COVID prevention behaviors and demographic identities.\n"
   ]
  },
  {
   "cell_type": "code",
   "execution_count": null,
   "id": "ffe8239d",
   "metadata": {},
   "outputs": [],
   "source": [
    "# Model 1: Predicting DEMO_age based on COVID-related factors\n",
    "model1 = smf.ols(\"DEMO_age ~ COVID_prevention_distancing + COVID_prevention_masks + COVID_prevention_hand_washing + COVID_vaccinated\", data=df)\n",
    "results1 = model1.fit()\n",
    "print(results1.summary())\n"
   ]
  },
  {
   "cell_type": "code",
   "execution_count": null,
   "id": "1bd865f1",
   "metadata": {},
   "outputs": [],
   "source": [
    "# Model 2: Predicting COVID prevention (distancing) based on demographic factors\n",
    "model2 = smf.ols(\"COVID_prevention_distancing ~ DEMO_gender + DEMO_identity_vetrans + DEMO_identity_indigenous + DEMO_identity_lgbtq + DEMO_identity_disability + DEMO_identity_bipoc + DEMO_identity_pwud + DEMO_identity_newcomers + DEMO_identity_mental_health\", data=df)\n",
    "results2 = model2.fit()\n",
    "print(results2.summary())\n"
   ]
  },
  {
   "cell_type": "code",
   "execution_count": null,
   "id": "0c84f233",
   "metadata": {},
   "outputs": [],
   "source": [
    "# Model 3: Predicting COVID vaccination status based on prevention behaviors and demographic identities\n",
    "model3 = smf.logit(\"COVID_vaccinated ~ COVID_prevention_distancing + COVID_prevention_masks + COVID_prevention_hand_washing + DEMO_identity_indigenous + DEMO_identity_lgbtq + DEMO_identity_disability + DEMO_identity_bipoc\", data=df)\n",
    "results3 = model3.fit()\n",
    "print(results3.summary())\n"
   ]
  },
  {
   "cell_type": "markdown",
   "id": "166541e1",
   "metadata": {},
   "source": [
    "Summary of using ChatBot:\n",
    "\n",
    "https://chatgpt.com/share/673162ac-6654-8012-b3bd-aeeec28de1e7\n",
    "\n",
    "We’re using multiple linear regression models to explore how various demographic and COVID-related factors impact social connection outcomes in the Canadian Social Connection Survey dataset. Specifically, we:\n",
    "\n",
    "1.Identify outcome variables (like SOC_support_received, SOC_connectedness, and SOC_support_given) to see how they’re affected by factors such as age, gender, vaccination status, and preventive behaviors.\n",
    "\n",
    "2.Fit each model using statsmodels.formula.api to examine how well the chosen predictors explain the variations in these social connection outcomes.\n",
    "\n",
    "3.Interpret the results by looking at the R-squared, p-values, and coefficients to understand the significance and strength of these relationships."
   ]
  },
  {
   "cell_type": "markdown",
   "id": "35bfcf87",
   "metadata": {},
   "source": [
    "### 4. Explain the apparent contradiction between the factual statements regarding the fit below that \"the model only explains 17.6% of the variability in the data\" while at the same time \"many of the *coefficients* are larger than 10 while having *strong* or *very strong evidence against* the *null hypothesis* of 'no effect'\"<br>\n"
   ]
  },
  {
   "cell_type": "code",
   "execution_count": null,
   "id": "5f0d5973",
   "metadata": {},
   "outputs": [],
   "source": [
    "import pandas as pd\n",
    "\n",
    "url = \"https://raw.githubusercontent.com/KeithGalli/pandas/master/pokemon_data.csv\"\n",
    "# fail https://github.com/KeithGalli/pandas/blob/master/pokemon_data.csv\n",
    "pokeaman = pd.read_csv(url) \n",
    "pokeaman"
   ]
  },
  {
   "cell_type": "code",
   "execution_count": null,
   "id": "41e1289d",
   "metadata": {},
   "outputs": [],
   "source": [
    "import statsmodels.formula.api as smf\n",
    "\n",
    "model1_spec = smf.ols(formula='HP ~ Q(\"Sp. Def\") + C(Generation)', data=pokeaman)\n",
    "model2_spec = smf.ols(formula='HP ~ Q(\"Sp. Def\") + C(Generation) + Q(\"Sp. Def\"):C(Generation)', data=pokeaman)\n",
    "model2_spec = smf.ols(formula='HP ~ Q(\"Sp. Def\") * C(Generation)', data=pokeaman)\n",
    "\n",
    "model2_fit = model2_spec.fit()\n",
    "model2_fit.summary()"
   ]
  },
  {
   "cell_type": "markdown",
   "id": "4da27e95",
   "metadata": {},
   "source": [
    "The contradiction arises from two different aspects of the model:\n",
    "\n",
    "1. Low R-squared (17.6%): This means the model only explains a small part of the variability in HP. Most of the variation remains unexplained, suggesting there may be important factors missing.\n",
    "\n",
    "2. Significant Coefficients: Despite the low R-squared, some predictors (e.g., Special Defense and Generation) show large coefficients and are statistically significant. This means these variables strongly affect HP, even if they don't explain much of the overall variation.\n",
    "\n",
    "Possible reasons for this contradiction:\n",
    "\n",
    "1. Missing Variables: \n",
    "\n",
    "The low R-squared might indicate that important variables that affect HP are missing from the model. If these missing factors explain a significant portion of the variation in HP, the predictors in the current model will show significance but won't explain much overall.\n",
    "\n",
    "2. Multicollinearity: \n",
    "\n",
    "If there is high correlation between predictors (such as Special Defense and Generation), it might make it difficult for the model to account for the total variability in HP. This could lead to high coefficients with significant p-values but still result in a low R-squared.\n",
    "\n",
    "\n",
    "3. Nature of the Data: \n",
    "\n",
    "Some datasets have inherent noise or factors that are hard to capture in a model. Even with strong predictors, the model might fail to explain a large portion of the variance in the outcome variable.\n",
    "\n",
    "4. Model Limitation: \n",
    "\n",
    "The model may only explain a small amount of the variability because the data has inherent noise or the relationships between predictors and HP are not fully captured.\n",
    "\n",
    "Model Building Process and Techniques:\n",
    "\n",
    "1. Exploratory Data Analysis (EDA):\n",
    "\n",
    "Before fitting any model, perform an EDA to understand the data, relationships between predictors and the outcome, and any potential multicollinearity or data quality issues.\n",
    "\n",
    "2. Model Selection:\n",
    "\n",
    "Start with a simple linear regression model and then build incrementally. Add predictors based on their potential to explain the outcome, checking their significance (p-values) and their impact on R-squared.\n",
    "Regularization techniques (like Lasso or Ridge regression) can help reduce overfitting and multicollinearity by penalizing large coefficients.\n",
    "\n",
    "3. Model Evaluation:\n",
    "\n",
    "Check the model's performance using multiple metrics, not just R-squared. Consider using adjusted R-squared (which adjusts for the number of predictors), cross-validation, and residual analysis to better assess how well the model generalizes.\n",
    "\n",
    "\n",
    "#### Model Building Process: Building Linear Regression Model\n",
    "\n",
    "1. Initial Model (model1_spec):\n",
    "\n",
    "Begin by fitting a simple model with Special Defense and Generation as predictors. This can help to understand their individual relationships with HP.\n",
    "\n",
    "2. Adding Interactions (model2_spec and model3_spec):\n",
    "\n",
    "You add interaction terms to see if the relationship between Special Defense and HP changes depending on Generation. The first interaction model is specified as Q(\"Sp. Def\"):C(Generation), while the second uses the shorthand * operator to include both main effects and interaction.\n",
    "\n",
    "3. Model Evaluation:\n",
    "\n",
    "After fitting the models, assess the R-squared value to determine how well the model explains the variance in HP. A low R-squared value indicates that most of the variation is not explained by your predictors, even if they are individually significant.\n",
    "\n",
    "Check the coefficients and their p-values to determine which predictors are having a strong impact on HP. Large coefficients with low p-values suggest these predictors are statistically significant, even if the overall model fit is low."
   ]
  },
  {
   "cell_type": "markdown",
   "id": "0157471f",
   "metadata": {},
   "source": [
    "Summary of using ChatBot:\n",
    "    \n",
    "https://chatgpt.com/share/673168a1-7df0-8012-8681-498eea68e182\n",
    " \n",
    "The apparent contradiction arises from the difference between **R-squared** and **statistical significance of coefficients**. \n",
    "\n",
    "- **R-squared (17.6%)** indicates the model explains only 17.6% of the variability in HP, suggesting many factors influencing HP are not captured by the model.\n",
    "- **Significant coefficients** (with small p-values and large values) suggest that predictors like `Sp. Def` and `Generation` have a strong relationship with HP, but the model doesn't account for all the variability, which is why the \\( R^2 \\) is low despite the significant predictors. \n",
    "\n",
    "In short, low \\( R^2 \\) means the model explains little of the variability, while significant predictors show meaningful effects on HP."
   ]
  },
  {
   "cell_type": "markdown",
   "id": "d7c8ee87",
   "metadata": {},
   "source": [
    "### 5. Discuss the following (five cells of) code and results with a ChatBot and based on the understanding you arrive at in this conversation explain what the following (five cells of) are illustrating"
   ]
  },
  {
   "cell_type": "code",
   "execution_count": null,
   "id": "d8ee1f17",
   "metadata": {},
   "outputs": [],
   "source": [
    "import numpy as np\n",
    "from sklearn.model_selection import train_test_split\n",
    "\n",
    "fifty_fifty_split_size = int(pokeaman.shape[0]*0.5)\n",
    "\n",
    "# Replace \"NaN\" (in the \"Type 2\" column with \"None\")\n",
    "pokeaman.fillna('None', inplace=True)\n",
    "\n",
    "np.random.seed(130)\n",
    "pokeaman_train,pokeaman_test = \\\n",
    "  train_test_split(pokeaman, train_size=fifty_fifty_split_size)\n",
    "pokeaman_train\n"
   ]
  },
  {
   "cell_type": "markdown",
   "id": "ad270c6b",
   "metadata": {},
   "source": [
    "Explanation:\n",
    "\n",
    "Data Splitting: \n",
    "\n",
    "The code imports the necessary libraries and defines a size (fifty_fifty_split_size) to split the pokeaman dataset into two parts: 50% for training (pokeaman_train) and 50% for testing (pokeaman_test).\n",
    "\n",
    "Handling Missing Data: \n",
    "\n",
    "Missing values (NaN) in the \"Type 2\" column of the pokeaman dataset are replaced with 'None'. This ensures that there are no missing values in the dataset for modeling.\n",
    "\n",
    "Train-Test Split:\n",
    "\n",
    "The dataset is split into a training and test set using train_test_split. The splitting is controlled by setting a random seed (np.random.seed(130)) for reproducibility."
   ]
  },
  {
   "cell_type": "code",
   "execution_count": null,
   "id": "c57ce79f",
   "metadata": {},
   "outputs": [],
   "source": [
    "model_spec3 = smf.ols(formula='HP ~ Attack + Defense', \n",
    "                      data=pokeaman_train)\n",
    "model3_fit = model_spec3.fit()\n",
    "model3_fit.summary()"
   ]
  },
  {
   "cell_type": "markdown",
   "id": "bc8655db",
   "metadata": {},
   "source": [
    "Model Specification:\n",
    "\n",
    "This code defines a simple linear regression model with HP (hit points) as the dependent variable and Attack and Defense as the independent variables. The formula is passed to smf.ols, which is used to fit an Ordinary Least Squares (OLS) regression model.\n",
    "\n",
    "Model Fitting: \n",
    "\n",
    "The model is then fitted to the training data (pokeaman_train), and a summary of the regression results is generated. The summary provides key statistics such as coefficients, p-values, R-squared, and other diagnostic measures."
   ]
  },
  {
   "cell_type": "code",
   "execution_count": null,
   "id": "9900e02c",
   "metadata": {},
   "outputs": [],
   "source": [
    "yhat_model3 = model3_fit.predict(pokeaman_test)\n",
    "y = pokeaman_test.HP\n",
    "print(\"'In sample' R-squared:    \", model3_fit.rsquared)\n",
    "print(\"'Out of sample' R-squared:\", np.corrcoef(y,yhat_model3)[0,1]**2)"
   ]
  },
  {
   "cell_type": "markdown",
   "id": "b740a23a",
   "metadata": {},
   "source": [
    "Making Predictions: \n",
    "\n",
    "The fitted model (model3_fit) is used to predict the HP values for the test set (pokeaman_test), and these predictions are stored in yhat_model3.\n",
    "\n",
    "Actual Values: \n",
    "\n",
    "The actual HP values from the test set (pokeaman_test.HP) are stored in the variable y for comparison."
   ]
  },
  {
   "cell_type": "code",
   "execution_count": null,
   "id": "078ff62c",
   "metadata": {},
   "outputs": [],
   "source": [
    "model4_linear_form = 'HP ~ Attack * Defense * Speed * Legendary'\n",
    "model4_linear_form += ' * Q(\"Sp. Def\") * Q(\"Sp. Atk\")'\n",
    "# DO NOT try adding '* C(Generation) * C(Q(\"Type 1\")) * C(Q(\"Type 2\"))'\n",
    "# That's 6*18*19 = 6*18*19 possible interaction combinations...\n",
    "# ...a huge number that will blow up your computer\n",
    "\n",
    "model4_spec = smf.ols(formula=model4_linear_form, data=pokeaman_train)\n",
    "model4_fit = model4_spec.fit()\n",
    "model4_fit.summary()"
   ]
  },
  {
   "cell_type": "markdown",
   "id": "55c3b691",
   "metadata": {},
   "source": [
    "Model Fitting and Summary: \n",
    "\n",
    "The model is then fitted to the training data (pokeaman_train), and a summary of the regression results is displayed.\n",
    "\n",
    "In-Sample and Out-of-Sample R-Squared: \n",
    "\n",
    "The code prints out the R-squared values. The in-sample R-squared is taken from the simple model (model3_fit.rsquared), and the out-of-sample R-squared is calculated by comparing the predicted and actual values of HP from the test set (yhat_model3 and y)."
   ]
  },
  {
   "cell_type": "code",
   "execution_count": null,
   "id": "42598cec",
   "metadata": {},
   "outputs": [],
   "source": [
    "yhat_model4 = model4_fit.predict(pokeaman_test)\n",
    "y = pokeaman_test.HP\n",
    "print(\"'In sample' R-squared:    \", model4_fit.rsquared)\n",
    "print(\"'Out of sample' R-squared:\", np.corrcoef(y,yhat_model4)[0,1]**2)"
   ]
  },
  {
   "cell_type": "markdown",
   "id": "948d94bf",
   "metadata": {},
   "source": [
    "Prediction: \n",
    "\n",
    "This cell generates predictions (yhat_model4) for the test set using the more complex model (model4_fit).\n",
    "\n",
    "R-Squared Values: \n",
    "\n",
    "The code prints both the in-sample R-squared for the complex model and the out-of-sample R-squared. The out-of-sample R-squared is computed by comparing the predicted values (yhat_model4) with the actual values (y)."
   ]
  },
  {
   "cell_type": "markdown",
   "id": "6ac41059",
   "metadata": {},
   "source": [
    "Summary of using ChatBot:\n",
    "  \n",
    "https://chatgpt.com/share/673196d7-bfa8-8012-9ad0-98a284cdcd4c \n",
    "\n",
    "We analyzed five code cells that demonstrate building, fitting, and evaluating two linear regression models—one simple (using Attack and Defense as predictors) and one complex (with multiple predictors and interactions) on the pokeaman dataset. "
   ]
  },
  {
   "cell_type": "markdown",
   "id": "dcacd23d",
   "metadata": {},
   "source": [
    "### 6. Work with a ChatBot to understand how the *model4_linear_form* (*linear form* specification of  *model4*) creates new *predictor variables* as the columns of the so-called \"design matrix\" *model4_spec.exog* (*model4_spec.exog.shape*) used to predict the *outcome variable*  *model4_spec.endog* and why the so-called *multicollinearity* in this \"design matrix\" (observed in *np.corrcoef(model4_spec.exog)*) contribues to the lack of \"out of sample\" *generalization* of *predictions* from *model4_fit*; then, explain this consisely in your own works"
   ]
  },
  {
   "cell_type": "code",
   "execution_count": null,
   "id": "35f6b7fe",
   "metadata": {},
   "outputs": [],
   "source": [
    "# \"Cond. No.\" WAS 343.0 WITHOUT to centering and scaling\n",
    "model3_fit.summary() "
   ]
  },
  {
   "cell_type": "code",
   "execution_count": null,
   "id": "2a158ec6",
   "metadata": {},
   "outputs": [],
   "source": [
    "from patsy import center, scale\n",
    "\n",
    "model3_linear_form_center_scale = \\\n",
    "  'HP ~ scale(center(Attack)) + scale(center(Defense))' \n",
    "model_spec3_center_scale = smf.ols(formula=model3_linear_form_center_scale,\n",
    "                                   data=pokeaman_train)\n",
    "model3_center_scale_fit = model_spec3_center_scale.fit()\n",
    "model3_center_scale_fit.summary()\n",
    "# \"Cond. No.\" is NOW 1.66 due to centering and scaling"
   ]
  },
  {
   "cell_type": "code",
   "execution_count": null,
   "id": "43869c07",
   "metadata": {},
   "outputs": [],
   "source": [
    "model4_linear_form_CS = 'HP ~ scale(center(Attack)) * scale(center(Defense))'\n",
    "model4_linear_form_CS += ' * scale(center(Speed)) * Legendary' \n",
    "model4_linear_form_CS += ' * scale(center(Q(\"Sp. Def\"))) * scale(center(Q(\"Sp. Atk\")))'\n",
    "# Legendary is an indicator, so we don't center and scale that\n",
    "\n",
    "model4_CS_spec = smf.ols(formula=model4_linear_form_CS, data=pokeaman_train)\n",
    "model4_CS_fit = model4_CS_spec.fit()\n",
    "model4_CS_fit.summary().tables[-1]  # Cond. No. is 2,250,000,000,000,000\n",
    "\n",
    "# The condition number is still bad even after centering and scaling"
   ]
  },
  {
   "cell_type": "code",
   "execution_count": null,
   "id": "07402880",
   "metadata": {},
   "outputs": [],
   "source": [
    "# Just as the condition number was very bad to start with\n",
    "model4_fit.summary().tables[-1]  # Cond. No. is 12,000,000,000,000,000\n"
   ]
  },
  {
   "cell_type": "markdown",
   "id": "b5fecd2a",
   "metadata": {},
   "source": [
    "In the model4_linear_form, creating new predictor variables from interactions and scaling of columns is essential for adding complexity to the model. Each term in the formula (like scale(center(Attack)) * scale(center(Defense))) creates a new column in the \"design matrix\" (model4_spec.exog), which includes all predictor variables and represents them as numbers ready for analysis. The design matrix, with shape model4_spec.exog.shape, is central to fitting the model because it allows us to predict the outcome (model4_spec.endog).\n",
    "\n",
    "However, multicollinearity occurs when predictor variables in the design matrix are highly correlated, which makes the matrix \"ill-conditioned.\" This is problematic because it inflates the \"Condition Number\" (Cond. No.), which we can see in the summary outputs. A high condition number indicates that the model has difficulty distinguishing the effects of each predictor variable separately due to their overlap. This weakens the model’s ability to generalize to new data, leading to poor \"out-of-sample\" performance.\n",
    "\n",
    "In simpler terms: adding many interaction terms between predictors creates columns in the design matrix that can be highly correlated, which causes problems for the model when trying to make accurate predictions on new data. Centering and scaling help, but they can't fully resolve the multicollinearity caused by these complex interactions."
   ]
  },
  {
   "cell_type": "markdown",
   "id": "ffaf4f0a",
   "metadata": {},
   "source": [
    "Summary of using ChatBot:\n",
    "    \n",
    "https://chatgpt.com/share/6731a1a6-cc28-8012-9440-8802971e7f66\n",
    "\n",
    "In `model4`, the design matrix has many predictors and interactions, which leads to **multicollinearity**—when predictors overlap and provide similar information. This makes the model’s estimates unstable and reduces its ability to predict accurately on new data. High multicollinearity, indicated by a large condition number, causes the model to overfit and struggle with generalization, even after centering and scaling the predictors."
   ]
  },
  {
   "cell_type": "markdown",
   "id": "4e76093c",
   "metadata": {},
   "source": [
    "### 7. Discuss with a ChatBot the rationale and principles by which *model5_linear_form* is  extended and developed from *model3_fit* and *model4_fit*; *model6_linear_form* is  extended and developed from *model5_linear_form*; and *model7_linear_form* is  extended and developed from *model6_linear_form*; then, explain this breifly and consisely in your own words"
   ]
  },
  {
   "cell_type": "markdown",
   "id": "7837a443",
   "metadata": {},
   "source": [
    "Extending from model3_fit and model4_fit to model5_linear_form\n",
    "\n",
    "Model5: Base Model with Multiple Predictors"
   ]
  },
  {
   "cell_type": "code",
   "execution_count": null,
   "id": "70ac7331",
   "metadata": {},
   "outputs": [],
   "source": [
    "model5_linear_form = 'HP ~ Attack + Defense + Speed + Legendary'\n",
    "model5_linear_form += ' + Q(\"Sp. Def\") + Q(\"Sp. Atk\")'\n",
    "model5_linear_form += ' + C(Generation) + C(Q(\"Type 1\")) + C(Q(\"Type 2\"))'"
   ]
  },
  {
   "cell_type": "markdown",
   "id": "eebba93c",
   "metadata": {},
   "source": [
    "Rationale:\n",
    "\n",
    "Model5 includes a broader set of predictors compared to earlier models (presumably model3_fit and model4_fit).\n",
    "\n",
    "The formula adds more features: Attack, Defense, Speed, Legendary, and special statistics like Special Defense (Sp. Def) and Special Attack (Sp. Atk).\n",
    "\n",
    "C(Generation) and C(Q(\"Type 1\")) + C(Q(\"Type 2\")) are categorical variables indicating the Pokémon generation and types. These categorical features are encoded using C(), which tells statsmodels to treat them as categorical rather than continuous, allowing for the inclusion of interaction effects between different generations and types.\n",
    "\n",
    "This extended formulation allows the model to capture more complexity in the relationship between Pokémon features and their HP (the dependent variable).\n",
    "\n",
    "Development of model5_fit:\n",
    "\n",
    "smf.ols: A linear regression model is specified, using the formula defined above.\n",
    "\n",
    "The model is fit using model5_spec.fit(), and the output is summarized with model5_fit.summary(), which provides insights into the significance of each predictor.\n"
   ]
  },
  {
   "cell_type": "markdown",
   "id": "924bdc23",
   "metadata": {},
   "source": [
    "Extending from model5_linear_form to model6_linear_form\n",
    "\n",
    "Model6: Focused and Significant Predictors with Interactions"
   ]
  },
  {
   "cell_type": "code",
   "execution_count": null,
   "id": "9bafe7e2",
   "metadata": {},
   "outputs": [],
   "source": [
    "model6_linear_form = 'HP ~ Attack + Speed + Q(\"Sp. Def\") + Q(\"Sp. Atk\")'\n",
    "model6_linear_form += ' + I(Q(\"Type 1\")==\"Normal\")'\n",
    "model6_linear_form += ' + I(Q(\"Type 1\")==\"Water\")'\n",
    "model6_linear_form += ' + I(Generation==2)'\n",
    "model6_linear_form += ' + I(Generation==5)'"
   ]
  },
  {
   "cell_type": "markdown",
   "id": "c490d59e",
   "metadata": {},
   "source": [
    "Rationale:\n",
    "\n",
    "Model6 takes a more focused approach, building on Model5 but reducing the number of predictors. Instead of including all predictors like Defense and Legendary, Model6 focuses on the most significant variables identified in Model5.\n",
    "\n",
    "Categorical Variables: Now the categorical variables (like Type 1 and Generation) are treated as binary indicators using I(), allowing the model to identify specific interactions for Type 1 being \"Normal\" or \"Water\", and specific generations (2 and 5).\n",
    "\n",
    "This refinement reflects a process of model selection, where insignificant variables from the initial model are removed, and only the relevant predictors are retained for a more parsimonious model.\n",
    "\n",
    "Development of model6_fit:\n",
    "As with model5_fit, the model is specified and fitted using smf.ols, and the results are evaluated through model6_fit.summary().\n"
   ]
  },
  {
   "cell_type": "markdown",
   "id": "0385c5b1",
   "metadata": {},
   "source": [
    "Extending from model6_linear_form to model7_linear_form\n",
    "\n",
    "Model7: Introducing Interaction Effects"
   ]
  },
  {
   "cell_type": "code",
   "execution_count": null,
   "id": "fcdae1e6",
   "metadata": {},
   "outputs": [],
   "source": [
    "model7_linear_form = 'HP ~ Attack * Speed * Q(\"Sp. Def\") * Q(\"Sp. Atk\")'\n",
    "model7_linear_form += ' + I(Q(\"Type 1\")==\"Normal\")'\n",
    "model7_linear_form += ' + I(Q(\"Type 1\")==\"Water\")'\n",
    "model7_linear_form += ' + I(Generation==2)'\n",
    "model7_linear_form += ' + I(Generation==5)'"
   ]
  },
  {
   "cell_type": "markdown",
   "id": "8d12b2e4",
   "metadata": {},
   "source": [
    "Rationale:\n",
    "\n",
    "Model7 takes a step further by introducing interaction terms between Attack, Speed, Sp. Def, and Sp. Atk. The interaction terms (*) imply that the relationship between the predictors and the target variable (HP) is not just additive but also depends on the combined effect of these variables.\n",
    "\n",
    "Adding interaction terms allows the model to capture more nuanced relationships that are not visible in simpler models.\n",
    "\n",
    "The inclusion of categorical predictors remains the same as in model6, emphasizing the significance of Pokémon types and generations in predicting HP.\n",
    "\n",
    "Development of model7_fit:\n",
    "\n",
    "Again, smf.ols is used to fit the model, and the results are evaluated through model7_fit.summary().\n"
   ]
  },
  {
   "cell_type": "markdown",
   "id": "78ca8f27",
   "metadata": {},
   "source": [
    "Further Extension to model7_linear_form_CS\n",
    "\n",
    "Model7_CS: Centering and Scaling of Continuous Variables"
   ]
  },
  {
   "cell_type": "code",
   "execution_count": null,
   "id": "66fe545a",
   "metadata": {},
   "outputs": [],
   "source": [
    "model7_linear_form_CS = 'HP ~ scale(center(Attack)) * scale(center(Speed))'\n",
    "model7_linear_form_CS += ' * scale(center(Q(\"Sp. Def\"))) * scale(center(Q(\"Sp. Atk\")))'\n",
    "model7_linear_form_CS += ' + I(Q(\"Type 1\")==\"Normal\")'\n",
    "model7_linear_form_CS += ' + I(Q(\"Type 1\")==\"Water\")'\n",
    "model7_linear_form_CS += ' + I(Generation==2)'\n",
    "model7_linear_form_CS += ' + I(Generation==5)'"
   ]
  },
  {
   "cell_type": "markdown",
   "id": "8aa53277",
   "metadata": {},
   "source": [
    "Rationale:\n",
    "\n",
    "Model7_CS introduces a critical change: centering and scaling of continuous variables. This transformation standardizes the continuous predictors (like Attack, Speed, Sp. Def, and Sp. Atk) by subtracting their mean and dividing by their standard deviation.\n",
    "\n",
    "This step reduces potential issues with multicollinearity (as seen with high condition numbers) and makes the coefficients more interpretable.\n",
    "\n",
    "Interaction terms remain in the model, but now, the continuous variables are scaled and centered, which often improves model performance, especially in the presence of interactions.\n",
    "\n",
    "Development of model7_CS_fit:\n",
    "\n",
    "After defining the new formula, the model is fit and summarized similarly to the previous models.\n",
    "\n",
    "The Condition Number is reported, showing how centering and scaling improved model stability, reducing it from an unreasonably high value in model7_fit to a more manageable value in model7_CS_fit."
   ]
  },
  {
   "cell_type": "markdown",
   "id": "6775df0b",
   "metadata": {},
   "source": [
    "Summary of using  ChatBot:\n",
    "\n",
    "https://chatgpt.com/share/6731a5b5-7f80-8012-b973-845f5c685952\n",
    " \n",
    "Each model progressively refines predictors and methods to improve the accuracy and stability of predicting `HP`:\n",
    "\n",
    "1. **model5_linear_form** expands the predictor set, including more attributes (e.g., `Sp. Atk`, `Legendary`, `Type`, `Generation`) to capture a broader view of `HP` influences.\n",
    "2. **model6_linear_form** reduces the model to only significant predictors from *model5*, simplifying it and reducing overfitting.\n",
    "3. **model7_linear_form** adds interaction terms among key predictors (like `Attack` and `Speed`), allowing for complex relationships between attributes.\n",
    "4. **model7_linear_form_CS** further stabilizes the model by centering and scaling numeric predictors, reducing multicollinearity for a more precise fit.\n",
    "\n",
    "Each step enhances prediction by focusing on relevant variables, interactions, and data transformations."
   ]
  },
  {
   "cell_type": "markdown",
   "id": "569b241f",
   "metadata": {},
   "source": [
    "### 8. Work with a ChatBot to write a *for* loop to create, collect, and visualize many different paired \"in sample\" and \"out of sample\" *model performance* metric actualizations (by not using *np.random.seed(130)* within each loop iteration); and explain in your own words the meaning of your results and purpose of this demonstration"
   ]
  },
  {
   "cell_type": "code",
   "execution_count": 3,
   "id": "197085e7",
   "metadata": {},
   "outputs": [
    {
     "data": {
      "image/png": "[encoded data removed]",
      "text/plain": [
       "<Figure size 1200x600 with 2 Axes>"
      ]
     },
     "metadata": {},
     "output_type": "display_data"
    }
   ],
   "source": [
    "import numpy as np\n",
    "import pandas as pd\n",
    "import matplotlib.pyplot as plt\n",
    "from sklearn.model_selection import train_test_split\n",
    "from sklearn.linear_model import LinearRegression\n",
    "from sklearn.metrics import mean_squared_error, r2_score\n",
    "\n",
    "# Generating synthetic data for this demonstration\n",
    "np.random.seed(0)  # Fix seed for reproducibility of data\n",
    "X = np.random.rand(100, 1)  # 100 samples, 1 feature\n",
    "y = 3 * X.squeeze() + 5 + np.random.randn(100)  # Linear relationship with noise\n",
    "\n",
    "# Initialize lists to store metrics\n",
    "in_sample_rmse = []\n",
    "out_of_sample_rmse = []\n",
    "in_sample_r2 = []\n",
    "out_of_sample_r2 = []\n",
    "\n",
    "# Loop for 50 iterations, collecting model performance metrics\n",
    "for _ in range(50):\n",
    "    # Split the data into training and testing sets (out of sample)\n",
    "    X_train, X_test, y_train, y_test = train_test_split(X, y, test_size=0.3)\n",
    "    \n",
    "    # Train the model\n",
    "    model = LinearRegression()\n",
    "    model.fit(X_train, y_train)\n",
    "    \n",
    "    # Predict on training (in sample) data\n",
    "    y_train_pred = model.predict(X_train)\n",
    "    \n",
    "    # Predict on testing (out of sample) data\n",
    "    y_test_pred = model.predict(X_test)\n",
    "    \n",
    "    # Compute RMSE for both in sample and out of sample\n",
    "    in_sample_rmse.append(np.sqrt(mean_squared_error(y_train, y_train_pred)))\n",
    "    out_of_sample_rmse.append(np.sqrt(mean_squared_error(y_test, y_test_pred)))\n",
    "    \n",
    "    # Compute R^2 for both in sample and out of sample\n",
    "    in_sample_r2.append(r2_score(y_train, y_train_pred))\n",
    "    out_of_sample_r2.append(r2_score(y_test, y_test_pred))\n",
    "\n",
    "# Visualizing the results\n",
    "plt.figure(figsize=(12, 6))\n",
    "\n",
    "# RMSE plot\n",
    "plt.subplot(1, 2, 1)\n",
    "plt.hist([in_sample_rmse, out_of_sample_rmse], bins=15, label=['In Sample', 'Out of Sample'], alpha=0.7)\n",
    "plt.title('Distribution of RMSE')\n",
    "plt.xlabel('Root Mean Squared Error')\n",
    "plt.ylabel('Frequency')\n",
    "plt.legend()\n",
    "\n",
    "# R^2 plot\n",
    "plt.subplot(1, 2, 2)\n",
    "plt.hist([in_sample_r2, out_of_sample_r2], bins=15, label=['In Sample', 'Out of Sample'], alpha=0.7)\n",
    "plt.title('Distribution of R^2')\n",
    "plt.xlabel('R-squared')\n",
    "plt.ylabel('Frequency')\n",
    "plt.legend()\n",
    "\n",
    "plt.tight_layout()\n",
    "plt.show()\n"
   ]
  },
  {
   "cell_type": "markdown",
   "id": "ca38c23c",
   "metadata": {},
   "source": [
    "Meaning of the Results and Purpose of the Demonstration:\n",
    "\n",
    "#### Purpose of the Demonstration:\n",
    "\n",
    "This demonstration is designed to show how the performance of a model can change across different iterations. Since we’re not using a fixed random seed, the way we split the data into training and testing sets will be different each time. As a result, the performance of the model will vary for each iteration.\n",
    "\n",
    "#### In-Sample vs. Out-of-Sample:\n",
    "\n",
    "1. In-Sample Performance: This tells us how well the model fits the data it was trained on. If the in-sample performance is much better than the out-of-sample performance, it might mean the model is overfitting, meaning it’s too closely tied to the training data.\n",
    "2. Out-of-Sample Performance: This measures how well the model can predict new, unseen data. This is a more realistic measure because it shows how the model will perform in real-world situations, where we don’t have access to the exact data the model was trained on.\n",
    "\n",
    "#### Randomness:\n",
    "\n",
    "The key idea is that the randomness in how the data is split into training and testing sets can cause different results, even for the same model and data. This is important because it shows that one single split might not give a true sense of how the model will perform. By running multiple iterations and averaging the results, we can get a more reliable estimate of how the model will perform on new data."
   ]
  },
  {
   "cell_type": "markdown",
   "id": "052dcf7b",
   "metadata": {},
   "source": [
    "### 9. Work with a ChatBot to understand the meaning of the illustration below; and, explain this in your own words"
   ]
  },
  {
   "cell_type": "code",
   "execution_count": null,
   "id": "e8372b3d",
   "metadata": {},
   "outputs": [],
   "source": [
    "model7_gen1_predict_future = smf.ols(formula=model7_linear_form,\n",
    "                                   data=pokeaman[pokeaman.Generation==1])\n",
    "model7_gen1_predict_future_fit = model7_gen1_predict_future.fit()\n",
    "print(\"'In sample' R-squared:    \", model7_fit.rsquared, \"(original)\")\n",
    "y = pokeaman_test.HP\n",
    "print(\"'Out of sample' R-squared:\", np.corrcoef(y,yhat_model7)[0,1]**2, \"(original)\")\n",
    "print(\"'In sample' R-squared:    \", model7_gen1_predict_future_fit.rsquared, \"(gen1_predict_future)\")\n",
    "y = pokeaman[pokeaman.Generation!=1].HP\n",
    "yhat = model7_gen1_predict_future_fit.predict(pokeaman[pokeaman.Generation!=1])\n",
    "print(\"'Out of sample' R-squared:\", np.corrcoef(y,yhat)[0,1]**2, \"(gen1_predict_future)\")"
   ]
  },
  {
   "cell_type": "markdown",
   "id": "482cbfcd",
   "metadata": {},
   "source": [
    "1. Building the Linear Regression Model"
   ]
  },
  {
   "cell_type": "code",
   "execution_count": null,
   "id": "a66e8c1f",
   "metadata": {},
   "outputs": [],
   "source": [
    "model7_gen1_predict_future = smf.ols(formula=model7_linear_form, \n",
    "                                      data=pokeaman[pokeaman.Generation==1]) "
   ]
  },
  {
   "cell_type": "markdown",
   "id": "ac9206bb",
   "metadata": {},
   "source": [
    "Purpose: This step builds the linear regression model using a subset of data where the Generation is 1. The formula model7_linear_form represents the specific relationship you're modeling. This defines the structure of the model based on the chosen predictors and the target variable."
   ]
  },
  {
   "cell_type": "code",
   "execution_count": null,
   "id": "78b26f5e",
   "metadata": {},
   "outputs": [],
   "source": [
    "model7_gen1_predict_future_fit = model7_gen1_predict_future.fit()\n"
   ]
  },
  {
   "cell_type": "markdown",
   "id": "877232c7",
   "metadata": {},
   "source": [
    "Purpose: After defining the model, you fit it to the training data (pokeaman[pokeaman.Generation==1]) to estimate the coefficients (slope and intercept) that best describe the relationship between the predictors and the outcome variable."
   ]
  },
  {
   "cell_type": "markdown",
   "id": "a0048fba",
   "metadata": {},
   "source": [
    "2. Evaluating the \"In-sample\" R-squared"
   ]
  },
  {
   "cell_type": "code",
   "execution_count": null,
   "id": "af133122",
   "metadata": {},
   "outputs": [],
   "source": [
    "print(\"'In sample' R-squared:    \", model7_fit.rsquared, \"(original)\")\n"
   ]
  },
  {
   "cell_type": "markdown",
   "id": "4259dd7a",
   "metadata": {},
   "source": [
    "Purpose:\n",
    "Here, the R-squared value for the model fitted to the training data (Generation 1) is printed. R-squared measures the proportion of variance in the target variable (HP)explained by the model. A higher R-squared indicates a better fit to the training data."
   ]
  },
  {
   "cell_type": "markdown",
   "id": "fe215910",
   "metadata": {},
   "source": [
    "3. Evaluating the \"Out-of-sample\" R-squared for the Original Model"
   ]
  },
  {
   "cell_type": "code",
   "execution_count": null,
   "id": "26430692",
   "metadata": {},
   "outputs": [],
   "source": [
    "y = pokeaman_test.HP\n",
    "print(\"'Out of sample' R-squared:\", np.corrcoef(y, yhat_model7)[0,1]**2, \"(original)\")"
   ]
  },
  {
   "cell_type": "markdown",
   "id": "78dffca7",
   "metadata": {},
   "source": [
    "Purpose:\n",
    "Evaluate how well the model performs on unseen data, the test data (pokeaman_test). The np.corrcoef function computes the correlation between the actual values of HP in the test set (y) and the predicted values (yhat_model7). The square of the correlation coefficient gives the out-of-sample R-squared value, which indicates how well the model generalizes to new data."
   ]
  },
  {
   "cell_type": "markdown",
   "id": "a26b810d",
   "metadata": {},
   "source": [
    "4. Evaluating the \"In-sample\" R-squared for a Different Model (Generation 1 Prediction)"
   ]
  },
  {
   "cell_type": "code",
   "execution_count": null,
   "id": "380ccba1",
   "metadata": {},
   "outputs": [],
   "source": [
    "print(\"'In sample' R-squared:    \", model7_gen1_predict_future_fit.rsquared, \"(gen1_predict_future)\")"
   ]
  },
  {
   "cell_type": "markdown",
   "id": "30a2a5ff",
   "metadata": {},
   "source": [
    "Purpose: This step computes the R-squared value for the model fitted specifically on Generation 1 data. This is the \"in-sample\" evaluation, where you're checking how well the model fits the Generation 1 data specifically, instead of the original full dataset."
   ]
  },
  {
   "cell_type": "markdown",
   "id": "1268ccf5",
   "metadata": {},
   "source": [
    "5. Evaluating the \"Out-of-sample\" R-squared for the Future Prediction (Generation 1 Model)"
   ]
  },
  {
   "cell_type": "code",
   "execution_count": null,
   "id": "d41d50aa",
   "metadata": {},
   "outputs": [],
   "source": [
    "y = pokeaman[pokeaman.Generation!=1].HP\n",
    "yhat = model7_gen1_predict_future_fit.predict(pokeaman[pokeaman.Generation!=1])\n",
    "print(\"'Out of sample' R-squared:\", np.corrcoef(y, yhat)[0,1]**2, \"(gen1_predict_future)\")"
   ]
  },
  {
   "cell_type": "markdown",
   "id": "876b3ae1",
   "metadata": {},
   "source": [
    "Purpose: Testing the model fitted on Generation 1 data on the out-of-sample data, which is the data for other generations (Generation!=1). This helps assess how well the model generalizes beyond the subset of the data it was trained on. "
   ]
  },
  {
   "cell_type": "code",
   "execution_count": null,
   "id": "66b71899",
   "metadata": {},
   "outputs": [],
   "source": [
    "model7_gen1to5_predict_future = smf.ols(formula=model7_linear_form,\n",
    "                                   data=pokeaman[pokeaman.Generation!=6])\n",
    "model7_gen1to5_predict_future_fit = model7_gen1to5_predict_future.fit()\n",
    "print(\"'In sample' R-squared:    \", model7_fit.rsquared, \"(original)\")\n",
    "y = pokeaman_test.HP\n",
    "print(\"'Out of sample' R-squared:\", np.corrcoef(y,yhat_model7)[0,1]**2, \"(original)\")\n",
    "print(\"'In sample' R-squared:    \", model7_gen1to5_predict_future_fit.rsquared, \"(gen1to5_predict_future)\")\n",
    "y = pokeaman[pokeaman.Generation==6].HP\n",
    "yhat = model7_gen1to5_predict_future_fit.predict(pokeaman[pokeaman.Generation==6])\n",
    "print(\"'Out of sample' R-squared:\", np.corrcoef(y,yhat)[0,1]**2, \"(gen1to5_predict_future)\")"
   ]
  },
  {
   "cell_type": "markdown",
   "id": "f82b2a75",
   "metadata": {},
   "source": [
    "1. Build the Model for Generations 1 to 5"
   ]
  },
  {
   "cell_type": "code",
   "execution_count": null,
   "id": "684d90cb",
   "metadata": {},
   "outputs": [],
   "source": [
    "model7_gen1to5_predict_future = smf.ols(formula=model7_linear_form, \n",
    "                                         data=pokeaman[pokeaman.Generation!=6])"
   ]
  },
  {
   "cell_type": "markdown",
   "id": "a3ace28d",
   "metadata": {},
   "source": [
    " The formula model7_linear_form defines the relationship between the predictors and the target variable (HP)."
   ]
  },
  {
   "cell_type": "code",
   "execution_count": null,
   "id": "a2f54fdb",
   "metadata": {},
   "outputs": [],
   "source": [
    "model7_gen1to5_predict_future_fit = model7_gen1to5_predict_future.fit()"
   ]
  },
  {
   "cell_type": "markdown",
   "id": "dd242fb0",
   "metadata": {},
   "source": [
    "This fits the model to the data, which means finding the best-fitting coefficients for the predictors."
   ]
  },
  {
   "cell_type": "markdown",
   "id": "72c4b0ec",
   "metadata": {},
   "source": [
    "2. In-sample R-squared (Training Data) for the Original Model"
   ]
  },
  {
   "cell_type": "code",
   "execution_count": null,
   "id": "db82e149",
   "metadata": {},
   "outputs": [],
   "source": [
    "print(\"'In sample' R-squared:    \", model7_fit.rsquared, \"(original)\")"
   ]
  },
  {
   "cell_type": "markdown",
   "id": "60f048fd",
   "metadata": {},
   "source": [
    "Check how well the original model fits the training data (from Generations 1 to 5). R-squared tells you how much of the target variable (HP) is explained by the model."
   ]
  },
  {
   "cell_type": "markdown",
   "id": "36a6c876",
   "metadata": {},
   "source": [
    "3. Out-of-sample R-squared (Testing Data) for the Original Model"
   ]
  },
  {
   "cell_type": "code",
   "execution_count": null,
   "id": "8ed0b5ea",
   "metadata": {},
   "outputs": [],
   "source": [
    "y = pokeaman_test.HP\n",
    "print(\"'Out of sample' R-squared:\", np.corrcoef(y, yhat_model7)[0,1]**2, \"(original)\")"
   ]
  },
  {
   "cell_type": "markdown",
   "id": "d3db81f4",
   "metadata": {},
   "source": [
    "Check how well the original model performs on unseen data (test data). This is the out-of-sample R-squared, showing how well the model generalizes to new data."
   ]
  },
  {
   "cell_type": "markdown",
   "id": "7a119bb9",
   "metadata": {},
   "source": [
    "4. In-sample R-squared for the Generations 1 to 5 Model"
   ]
  },
  {
   "cell_type": "code",
   "execution_count": null,
   "id": "23f7d796",
   "metadata": {},
   "outputs": [],
   "source": [
    "print(\"'In sample' R-squared:    \", model7_gen1to5_predict_future_fit.rsquared, \"(gen1to5_predict_future)\")"
   ]
  },
  {
   "cell_type": "markdown",
   "id": "aa20d4ee",
   "metadata": {},
   "source": [
    "Check how well the model, built on Generations 1 to 5, fits the same data. This is the in-sample R-squared for the new model."
   ]
  },
  {
   "cell_type": "markdown",
   "id": "7eb96e7e",
   "metadata": {},
   "source": [
    "5. Out-of-sample R-squared for Generation 6 Data"
   ]
  },
  {
   "cell_type": "code",
   "execution_count": null,
   "id": "53e5204d",
   "metadata": {},
   "outputs": [],
   "source": [
    "y = pokeaman[pokeaman.Generation==6].HP\n",
    "yhat = model7_gen1to5_predict_future_fit.predict(pokeaman[pokeaman.Generation==6])\n",
    "print(\"'Out of sample' R-squared:\", np.corrcoef(y, yhat)[0,1]**2, \"(gen1to5_predict_future)\")"
   ]
  },
  {
   "cell_type": "markdown",
   "id": "f51d747a",
   "metadata": {},
   "source": [
    "Test the model built on Generations 1 to 5 on Generation 6 data (which wasn't used for training). You calculate the out-of-sample R-squared to see how well this model predicts HP for Generation 6."
   ]
  },
  {
   "cell_type": "code",
   "execution_count": null,
   "id": "ae5782c5",
   "metadata": {},
   "outputs": [],
   "source": [
    "model6_gen1_predict_future = smf.ols(formula=model6_linear_form,\n",
    "                                   data=pokeaman[pokeaman.Generation==1])\n",
    "model6_gen1_predict_future_fit = model6_gen1_predict_future.fit()\n",
    "print(\"'In sample' R-squared:    \", model6_fit.rsquared, \"(original)\")\n",
    "y = pokeaman_test.HP\n",
    "print(\"'Out of sample' R-squared:\", np.corrcoef(y,yhat_model6)[0,1]**2, \"(original)\")\n",
    "print(\"'In sample' R-squared:    \", model6_gen1_predict_future_fit.rsquared, \"(gen1_predict_future)\")\n",
    "y = pokeaman[pokeaman.Generation!=1].HP\n",
    "yhat = model6_gen1_predict_future_fit.predict(pokeaman[pokeaman.Generation!=1])\n",
    "print(\"'Out of sample' R-squared:\", np.corrcoef(y,yhat)[0,1]**2, \"(gen1_predict_future)\")"
   ]
  },
  {
   "cell_type": "markdown",
   "id": "12bcf9df",
   "metadata": {},
   "source": [
    "Summary of the process:\n",
    "    \n",
    "1. Build a model using only Generation 1 data.\n",
    "\n",
    "2. Check the in-sample R-squared to see how well the original model fits the data.\n",
    "\n",
    "3. Test the original model on unseen data (test data) to check its out-of-sample R-squared.\n",
    "\n",
    "4. Check the in-sample R-squared for the Generation 1 model, showing how well it fits Generation 1 data.\n",
    "\n",
    "5. Test the Generation 1 model on data from other generations (out-of-sample) and compute the R-squared to see how well it predicts HP for data it hasn't seen before.\n",
    "\n",
    "This shows how well the model built using only Generation 1 data can predict HP for other generations, and also compares its performance against the original model."
   ]
  },
  {
   "cell_type": "code",
   "execution_count": null,
   "id": "e9609ac2",
   "metadata": {},
   "outputs": [],
   "source": [
    "model6_gen1to5_predict_future = smf.ols(formula=model6_linear_form,\n",
    "                                   data=pokeaman[pokeaman.Generation!=6])\n",
    "model6_gen1to5_predict_future_fit = model6_gen1to5_predict_future.fit()\n",
    "print(\"'In sample' R-squared:    \", model6_fit.rsquared, \"(original)\")\n",
    "y = pokeaman_test.HP\n",
    "print(\"'Out of sample' R-squared:\", np.corrcoef(y,yhat_model6)[0,1]**2, \"(original)\")\n",
    "print(\"'In sample' R-squared:    \", model6_gen1to5_predict_future_fit.rsquared, \"(gen1to5_predict_future)\")\n",
    "y = pokeaman[pokeaman.Generation==6].HP\n",
    "yhat = model6_gen1to5_predict_future_fit.predict(pokeaman[pokeaman.Generation==6])\n",
    "print(\"'Out of sample' R-squared:\", np.corrcoef(y,yhat)[0,1]**2, \"(gen1to5_predict_future)\")"
   ]
  },
  {
   "cell_type": "markdown",
   "id": "d137c57d",
   "metadata": {},
   "source": [
    "Summary:\n",
    "\n",
    "1. Build a model using Generations 1 to 5 data.\n",
    "\n",
    "2. Check the in-sample R-squared to see how well the model fits the data from Generations 1 to 5.\n",
    "\n",
    "3. Test the original model on unseen test data to get an out-of-sample R-squared value.\n",
    "\n",
    "4. Check the in-sample R-squared for the model built on Generations 1 to 5.\n",
    "\n",
    "5. Test the Generations 1 to 5 model on Generation 6 data and calculate the out-of-sample R-squared to evaluate the model's performance.\n",
    "\n",
    "This process shows how well the model built on Generations 1 to 5 can predict HP for Generation 6, and how it compares to the original model's performance on the test data."
   ]
  },
  {
   "cell_type": "markdown",
   "id": "cdd37c31",
   "metadata": {},
   "source": [
    "Summary of using ChatBot:\n",
    "\n",
    "https://chatgpt.com/share/6731b421-3d0c-8012-adf3-ca830662b7af\n",
    "\n",
    "1. **Model Fitting**: You fit linear regression models using `statsmodels` for different subsets of Pokémon data, such as Generation 1 and Generations 1-5.\n",
    "\n",
    "2. **In-sample R-squared**: This measures how well the model explains the variance in the training data.\n",
    "\n",
    "3. **Out-of-sample R-squared**: This evaluates how well the model generalizes to unseen data, such as Pokémon from excluded generations (e.g., Generation 6).\n",
    "\n",
    "4. **Comparison**: You compared in-sample and out-of-sample R-squared values to assess the performance of models both within their training data and on new, unseen data."
   ]
  }
 ],
 "metadata": {
  "kernelspec": {
   "display_name": "Python 3 (ipykernel)",
   "language": "python",
   "name": "python3"
  },
  "language_info": {
   "codemirror_mode": {
    "name": "ipython",
    "version": 3
   },
   "file_extension": ".py",
   "mimetype": "text/x-python",
   "name": "python",
   "nbconvert_exporter": "python",
   "pygments_lexer": "ipython3",
   "version": "3.11.6"
  }
 },
 "nbformat": 4,
 "nbformat_minor": 5
}
