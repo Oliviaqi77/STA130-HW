{
 "cells": [
  {
   "cell_type": "markdown",
   "id": "ae6a4509",
   "metadata": {},
   "source": [
    "#### 1. The \"Pre-lecture\" video (above) mentioned the \"standard error of the mean\" as being the \"standard deviation\" of the distribution bootstrapped means.  What is the difference between the \"standard error of the mean\" and the \"standard deviation\" of the original data? What distinct ideas do each of these capture? Explain this concisely in your own words."
   ]
  },
  {
   "cell_type": "markdown",
   "id": "181fa51c",
   "metadata": {},
   "source": [
    "Standard deviation of the original data describes how far each value lies from the mean value in the dataset.\n",
    "\n",
    "Standard error of the mean shows how much the sample mean varies if choosing another group of samples from that population and repeat the study.\n",
    "\n",
    "The difference between them is that standard deviation is focusing on some specific data points in the sample to show variability, while standard error of the mean is focusing on the sample means when repeating choosing another samples to show the accuracy. Although they both describe the spread."
   ]
  },
  {
   "cell_type": "markdown",
   "id": "b7af7b5e",
   "metadata": {},
   "source": [
    "Summary using ChatBot:\n",
    "    \n",
    "https://chatgpt.com/share/66ff32c5-341c-8012-82f5-bea00c423f52\n",
    "\n",
    "In this interaction, you asked about the difference between the standard error of the mean (SEM) and the standard deviation (SD). I explained that:\n",
    "\n",
    "1. Standard deviation measures the variability or spread of data points within a dataset.\n",
    "2. Standard error of the mean estimates how much the sample mean deviates from the true population mean and depends on the sample size.\n",
    "The standard deviation describes the dataset itself, while the standard error helps gauge the precision of the sample mean in estimating the population mean."
   ]
  },
  {
   "cell_type": "markdown",
   "id": "78a3b6b0",
   "metadata": {},
   "source": [
    "#### 2. The \"Pre-lecture\" video (above) suggested that the \"standard error of the mean\" could be used to create a confidence interval, but didn't describe exactly how to do this.  How can we use the \"standard error of the mean\" to create a 95% confidence interval which \"covers 95% of the bootstrapped sample means\"? Explain this concisely in your own words."
   ]
  },
  {
   "cell_type": "markdown",
   "id": "4424d07a",
   "metadata": {},
   "source": [
    "95% confidence interval means that there will be 95% of the bootstrapped sample means fall in this range. So first of all, we can calculate the average of the data in your sample which is the sample mean. Then calculate the standard deviation and standard error of the mean of the sample. After that, find the z-score which is 1.96.This means that 95% of the data falls between -1.96 and 1.96 this range. Next, we can use this formula: sample mean±1.96×standard error of the mean to calculate the interval.So, we can get the confidence interval.\n"
   ]
  },
  {
   "cell_type": "markdown",
   "id": "de800eb8",
   "metadata": {},
   "source": [
    "Summary of using ChatBot:\n",
    "    \n",
    "https://chatgpt.com/share/66ff3aaa-3110-8012-804c-f0827789479f\n",
    "\n",
    "In this interaction, you asked how to create a 95% confidence interval that covers 95% of the bootstrapped sample means using the standard error of the mean (SEM). I explained the steps involved:\n",
    "\n",
    "1. Generate Bootstrapped Sample Means by resampling from the original data and calculating the mean for each sample.\n",
    "2. Calculate the SEM using the standard deviation of the bootstrapped sample means divided by the square root of the original sample size.\n",
    "3. Find the Critical Value for the 95% confidence interval (1.96 for the normal distribution).\n",
    "4. Construct the Confidence Interval using the formula:\n",
    "mean of bootstrapped means±1.96×SEM\n",
    "I also provided Python code to illustrate these steps."
   ]
  },
  {
   "cell_type": "markdown",
   "id": "d09f1fbb",
   "metadata": {},
   "source": [
    "#### 3. Creating the \"sample mean plus and minus about 2 times the standard error\" confidence interval addressed in the previous problem should indeed cover approximately 95% of the bootstrapped sample means. Alternatively, how do we create a 95% bootstrapped confidence interval using the bootstrapped means (without using their standard deviation to estimate the standard error of the mean)? Explain this concisely in your own words."
   ]
  },
  {
   "cell_type": "markdown",
   "id": "92fc60ef",
   "metadata": {},
   "source": [
    "First of all, we can collect the sample and generate many bootstrapped samples.Then, calculate the sample mean for each boostrapped samples. After that, sort the boostrapped sample means. Finally, define the intervals of the 95% confidence interval including the lower bound the upper bound using 2.5th and 97.5th percentiles of the bootstrapped means."
   ]
  },
  {
   "cell_type": "markdown",
   "id": "086c5105",
   "metadata": {},
   "source": [
    "Summary of using ChatBot:\n",
    "    \n",
    "https://chatgpt.com/share/66ff3e4c-6700-8012-9acc-2d409727bf0a\n",
    "\n",
    "Bootstrapped Confidence Interval: You asked about creating a 95% bootstrapped confidence interval using bootstrapped means without relying on their standard deviation to estimate the standard error. I provided a clear step-by-step guide on generating bootstrap samples, calculating means, determining percentiles, and interpreting the results, along with a Python example for implementation.\n"
   ]
  },
  {
   "cell_type": "markdown",
   "id": "3be1b9f3",
   "metadata": {},
   "source": [
    "#### 4. The \"Pre-lecture\" video (above) mentioned that bootstrap confidence intervals could apply to other statistics of the sample, such as the \"median\". Work with a ChatBot to create code to produce a 95% bootstrap confidence interval for a population mean based on a sample that you have and comment the code to demonstrate how the code can be changed to produce a 95% bootstrap confidence interval for different population parameter (other than the population mean, such as the population median)."
   ]
  },
  {
   "cell_type": "code",
   "execution_count": 1,
   "id": "46c22e50",
   "metadata": {},
   "outputs": [
    {
     "name": "stdout",
     "output_type": "stream",
     "text": [
      "95% Bootstrap Confidence Interval for the Mean: (12.162500000000003, 17.5)\n",
      "95% Bootstrap Confidence Interval for the Median: (11.0, 19.0)\n"
     ]
    }
   ],
   "source": [
    "import numpy as np\n",
    "\n",
    "# Function to calculate bootstrap confidence interval\n",
    "def bootstrap_ci(data, num_bootstrap_samples=1000, confidence_level=0.95):\n",
    "    # Calculate the observed statistic (mean in this case)\n",
    "    observed_statistic = np.mean(data)\n",
    "\n",
    "    # Generate bootstrap samples and calculate the statistic for each sample\n",
    "    bootstrap_statistics = []\n",
    "    for _ in range(num_bootstrap_samples):\n",
    "        bootstrap_sample = np.random.choice(data, size=len(data), replace=True)\n",
    "        bootstrap_statistic = np.mean(bootstrap_sample)  # Calculate mean for the bootstrap sample\n",
    "        bootstrap_statistics.append(bootstrap_statistic)\n",
    "\n",
    "    # Calculate lower and upper percentiles for the confidence interval\n",
    "    lower_bound = np.percentile(bootstrap_statistics, (1 - confidence_level) / 2 * 100)\n",
    "    upper_bound = np.percentile(bootstrap_statistics, (1 + confidence_level) / 2 * 100)\n",
    "\n",
    "    return lower_bound, upper_bound\n",
    "\n",
    "# Example:\n",
    "data = np.array([10, 12, 14, 15, 18, 20])  # Sample data\n",
    "mean_ci = bootstrap_ci(data)\n",
    "print(f\"95% Bootstrap Confidence Interval for the Mean: {mean_ci}\")\n",
    "\n",
    "# To produce a 95% bootstrap confidence interval for the population median:\n",
    "def bootstrap_ci_median(data, num_bootstrap_samples=1000, confidence_level=0.95):\n",
    "    # Calculate the observed statistic (median in this case)\n",
    "    observed_statistic = np.median(data)\n",
    "\n",
    "    # Generate bootstrap samples and calculate the statistic for each sample\n",
    "    bootstrap_statistics = []\n",
    "    for _ in range(num_bootstrap_samples):\n",
    "        bootstrap_sample = np.random.choice(data, size=len(data), replace=True)\n",
    "        bootstrap_statistic = np.median(bootstrap_sample)  # Calculate median for the bootstrap sample\n",
    "        bootstrap_statistics.append(bootstrap_statistic)\n",
    "\n",
    "    # Calculate lower and upper percentiles for the confidence interval\n",
    "    lower_bound = np.percentile(bootstrap_statistics, (1 - confidence_level) / 2 * 100)\n",
    "    upper_bound = np.percentile(bootstrap_statistics, (1 + confidence_level) / 2 * 100)\n",
    "\n",
    "    return lower_bound, upper_bound\n",
    "\n",
    "# Example for the median:\n",
    "median_ci = bootstrap_ci_median(data)\n",
    "print(f\"95% Bootstrap Confidence Interval for the Median: {median_ci}\")\n"
   ]
  },
  {
   "cell_type": "markdown",
   "id": "07729a9e",
   "metadata": {},
   "source": [
    "Summary of using ChatBot:\n",
    "    \n",
    "https://chatgpt.com/share/66ff4392-9370-8012-96ec-1f8823e3feba\n",
    "1. Bootstrap Confidence Intervals:\n",
    "You asked about creating a 95% bootstrap confidence interval for a population mean based on a sample.\n",
    "I provided an example code to compute the bootstrap confidence interval for the mean and explained how to adapt it for other statistics, like the median.\n",
    "\n",
    "2. Detailed Steps:\n",
    "I broke down the process into detailed steps, explaining the purpose of each part of the code, including preparing the data, defining functions, calculating observed statistics, generating bootstrap samples, and computing confidence intervals.\n",
    "\n",
    "3. Sample Data Example:\n",
    "You requested a practical example, so I created a sample dataset of ages and demonstrated how to calculate both the mean and median bootstrap confidence intervals with complete code.\n",
    "\n",
    "4. Conclusion:\n",
    "You expressed understanding of the material, and I encouraged you to reach out with any further questions."
   ]
  },
  {
   "cell_type": "markdown",
   "id": "b86c4c5d",
   "metadata": {},
   "source": [
    "#### 5. The previous question addresses making a confidence interval for a population parameter based on a sample statistic. Why do we need to distinguish between the role of the popualation parameter and the sample sample statistic when it comes to confidence intervals? Explain this concisely in your own words."
   ]
  },
  {
   "cell_type": "markdown",
   "id": "1b753305",
   "metadata": {},
   "source": [
    "Population parameter descibes the entire population, while sample statistic is the value calculated from a sample of the population.\n",
    "When it comes to confidence intervals we need to distinguish between the role of the popualation parameter and the sample sample statistic because:\n",
    "Sample statistics are subject to variability and may differ from real population parameters.Confidence intervals can explain this uncertainty by providing a reasonable range for the unknown population parameters from the observed data.\n",
    "Confidence intervals are built around the sample statistic to provide a range that is likely to contain the true population parameter. This distinction is essential because it acknowledges that the sample statistic is subject to random sampling variability, and confidence intervals quantify the uncertainty of using a sample to infer about the broader population. Without recognizing this difference, we could mistakenly treat a single sample statistic as if it were the exact value of the population parameter."
   ]
  },
  {
   "cell_type": "markdown",
   "id": "33ea9431",
   "metadata": {},
   "source": [
    "Summary of using ChatBot:\n",
    "\n",
    "https://chatgpt.com/share/66ff528d-4bec-8012-8807-fabe6fb5aa47\n",
    "\n",
    "The distinction between population parameters and sample statistics is essential for confidence intervals because:\n",
    "\n",
    "1. Population parameters represent fixed, unknown values for the entire population, like the true mean.\n",
    "2. Sample statistics are calculated from a sample and vary from one sample to another.\n",
    "Confidence intervals use sample statistics to estimate the population parameter within a certain range, accounting for the variability and uncertainty of the sample. This distinction helps clarify what is known (sample data) and what we're trying to estimate (population values)."
   ]
  },
  {
   "cell_type": "markdown",
   "id": "c50e7b94",
   "metadata": {},
   "source": [
    "#### 6. Provide written answers explaining the answers to the following questions in an informal manner of a conversation with a friend with little experience with statistics."
   ]
  },
  {
   "cell_type": "markdown",
   "id": "4bab0a83",
   "metadata": {},
   "source": [
    "I talked with my friend with the following explanations:\n",
    "1. What is the process of bootstrapping? \n",
    "The process of bootstrapping is like a redo with the data but have a little difference.For example, if you have a set of data points, like the grades of 10 people. Normally, you just need to analyze that one dataset. But in bootstrapping, you pick people from your original set again, meaning you might pick the same person more than once. And do this several times, for each new sample, calculate the statistic you're interested in, like the average grade. In the end, you have a bunch of averages, which gives you an idea of how much the average might vary if you took different samples.  \n",
    "\n",
    "2. What is the main purpose of bootstrapping? \n",
    "The main purpose of bootstrapping is to figure out how much uncertainty there is in your estimate.  Let's say you're trying to guess the average grade of all people based on your small sample of 10. Bootstrapping can help you understand how much your estimate value might change if you could take different samples from the population. It's especially useful when you don't know much about the distribution of the population.\n",
    "\n",
    "3. If you had a (hypothesized) guess about what the average of a population was, and you had a sample of size n from that population, how could you use bootstrapping to assess whether or not your (hypothesized) guess might be plausible?\n",
    "Hypothesis guess is the average grade of a population is 70. And you’ve collected a sample of grades from 50 people. First, you pick the sample and resample it several times. Then calculate the average grade for each time from these resampled data. After this, you’ll have a distribution of these bootstrapped sample means. You can then check if 70 falls within the middle 95% of this bootstrapped distribution. If yes, then your guess is true;  if it lies outside, it might be wrong. "
   ]
  },
  {
   "cell_type": "markdown",
   "id": "aa80254b",
   "metadata": {},
   "source": [
    "#### 7. The \"Pre-lecture\" video (above) introduced hypothesis testing by saying that \"the confidence interval covers zero, so we cannot reject the hypothesis that the drug is **[on average]** not doing anything\".  This conclusion could be referred to as \"failing to reject the null hypothesis\", where the term \"null\" refers to the concept of \"no effect **[on average]**\".  Why does a confidence interval overlapping zero \"fail to reject the null hypothesis\" when the observed sample mean statistic itself is not zero? Alternatively, what would lead to the opposite conclusion in this context; namely, instead choosing \"to reject the null hypothesis\"? Explain the answers to these questions concisely in your own words."
   ]
  },
  {
   "cell_type": "markdown",
   "id": "572b3e20",
   "metadata": {},
   "source": [
    "The value of the drug's actual impact may be 0 when the confidence interval overlaps with zero. Therefore, the confidence interval informs us that we cannot be certain that the underlying effect is not zero, even though the sample mean may indicate some influence. This is why we say we \"cannot reject the null hypothesis\", because it does not exclude the chance that the medicine accomplishes nothing.\n",
    "We would be more certain that the drug's true effect is not zero if the confidence interval did not include zero, which would allow us to \"reject the null hypothesis\". We can now draw the conclusion that the medication might affect typical people.\n"
   ]
  },
  {
   "cell_type": "markdown",
   "id": "97e41fe5",
   "metadata": {},
   "source": [
    "#### 8. Complete the following assignment. \n",
    "### Vaccine Data Analysis Assignment\n",
    "\n",
    "#### Overview\n",
    "\n",
    "The company AliTech has created a new vaccine that aims to improve the health of the people who take it. Your job is to use what you have learned in the course to give evidence for whether or not the vaccine is effective. \n",
    "\n",
    "#### Data \n",
    "AliTech has released the following data.\n",
    "\n",
    "```csv\n",
    "PatientID,Age,Gender,InitialHealthScore,FinalHealthScore\n",
    "1,45,M,84,86\n",
    "2,34,F,78,86\n",
    "3,29,M,83,80\n",
    "4,52,F,81,86\n",
    "5,37,M,81,84\n",
    "6,41,F,80,86\n",
    "7,33,M,79,86\n",
    "8,48,F,85,82\n",
    "9,26,M,76,83\n",
    "10,39,F,83,84\n",
    "```\n",
    "#### Deliverables\n",
    "While you can choose how to approach this project, the most obvious path would be to use bootstrapping, follow the analysis presented in the \"Pre-lecture\" HW video (above). Nonetheless, we are  primarily interested in evaluating your report relative to the following deliverables.\n",
    "\n",
    "- A visual presentation giving some initial insight into the comparison of interest.\n",
    "- A quantitative analysis of the data and an explanation of the method and purpose of this method.\n",
    "- A conclusion regarding a null hypothesis of \"no effect\" after analyzing the data with your methodology.\n",
    "- The clarity of your documentation, code, and written report. \n",
    "\n",
    "> Consider organizing your report within the following outline template.\n",
    "> - Problem Introduction \n",
    ">     - An explaination of the meaning of a Null Hypothesis of \"no effect\" in this context\n",
    ">     - Data Visualization (motivating and illustrating the comparison of interest)\n",
    "> - Quantitative Analysis\n",
    ">     - Methodology Code and Explanations\n",
    ">     - Supporting Visualizations\n",
    "> - Findings and Discussion\n",
    ">     - Conclusion regarding a Null Hypothesis of \"no effect\"\n",
    ">     - Further Considerations\n",
    "\n",
    "#### Further Instructions:\n",
    "- When using random functions, you should make your analysis reproducible by using the `np.random.seed()` function\n",
    "- Create a CSV file and read that file in with your code, but **do not** include the CSV file along with your submission\n"
   ]
  },
  {
   "cell_type": "markdown",
   "id": "0d06f6ff",
   "metadata": {},
   "source": [
    "Here is how I use ChatBot to ask for instruction and advice to help me complete this assignment.\n",
    "\n",
    "Summary:\n",
    "\n",
    "https://chatgpt.com/share/66ff66df-d824-8012-85f0-8419927c3e36\n",
    "\n",
    "\n",
    "1. **Vaccine Data Analysis Assignment Overview**: You shared details about your assignment for AliTech, focusing on evaluating the effectiveness of a new vaccine through patient health scores.\n",
    "\n",
    "2. **Assignment Structure**: I provided a structured outline for your report, including sections on problem introduction, null hypothesis, data visualization, quantitative analysis, findings, and conclusions.\n",
    "\n",
    "3. **Visualizations**: I explained how to create different types of visualizations using Python, including:\n",
    "   - **Bar Graphs** to compare average initial and final health scores.\n",
    "   - **Box Plots** to show the distribution of health scores.\n",
    "   - **Histograms** to illustrate the frequency distribution of scores.\n",
    "\n",
    "4. **Code Examples**: I provided code snippets using libraries like `matplotlib` and `seaborn` to generate the visualizations, along with explanations of each type.\n",
    "\n",
    "If you need any more assistance or further clarification, feel free to ask!"
   ]
  },
  {
   "cell_type": "markdown",
   "id": "cd9d40a0",
   "metadata": {},
   "source": [
    "#### 9. Have you reviewed the course wiki-textbook and interacted with a ChatBot (or, if that wasn't sufficient, real people in the course piazza discussion board or TA office hours) to help you understand all the material in the tutorial and lecture that you didn't quite follow when you first saw it?"
   ]
  },
  {
   "cell_type": "markdown",
   "id": "ca2d3d68",
   "metadata": {},
   "source": [
    "Yes"
   ]
  }
 ],
 "metadata": {
  "kernelspec": {
   "display_name": "Python 3 (ipykernel)",
   "language": "python",
   "name": "python3"
  },
  "language_info": {
   "codemirror_mode": {
    "name": "ipython",
    "version": 3
   },
   "file_extension": ".py",
   "mimetype": "text/x-python",
   "name": "python",
   "nbconvert_exporter": "python",
   "pygments_lexer": "ipython3",
   "version": "3.11.6"
  }
 },
 "nbformat": 4,
 "nbformat_minor": 5
}
