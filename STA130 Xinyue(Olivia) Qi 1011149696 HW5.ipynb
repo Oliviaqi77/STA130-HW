{
 "cells": [
  {
   "cell_type": "markdown",
   "id": "b7933478",
   "metadata": {},
   "source": [
    "### 1. The \"first pre-lecture video\" (above) describes hypothesis testing as addressing \"an idea that can be tested\", and the end of the video then discusses what our actual intended purpose in setting up a null hypothesis is. What is the key factor that makes the difference between ideas that can, and cannot be examined and tested statistically?  What would you describe is the key \"criteria\" defining what a good null hypothesis is? And what is the difference between a null hypothesis and an alternative hypothesis in the context of hypothesis testing? Answer these questions with concise explanations in your own words."
   ]
  },
  {
   "cell_type": "markdown",
   "id": "6722ac97",
   "metadata": {},
   "source": [
    "Key Factor for Testable Ideas: The key factor that distinguishes testable ideas is their ability to be quantified and measured using data, allowing for statistical analysis.\n",
    "\n",
    "Criteria for a Good Null Hypothesis: A good null hypothesis should be clear, specific, and falsifiable, meaning it can be tested and potentially disproven through data.\n",
    "\n",
    "Difference Between Null and Alternative Hypothesis: The null hypothesis states that there is no effect or no difference, while the alternative hypothesis proposes that there is an effect or a difference, indicating what we hope to support through evidence."
   ]
  },
  {
   "cell_type": "markdown",
   "id": "196c7e50",
   "metadata": {},
   "source": [
    "Summary of using ChatBot:\n",
    "https://chatgpt.com/share/670f1a81-0bf8-8012-9dda-e4a0f2db8474\n",
    "\n",
    "Here's a summary of our interaction:\n",
    "Key Factors in Statistical Examination: You asked about the key factors that differentiate ideas that can be tested statistically from those that cannot. I explained that falsifiability is crucial, as ideas must be structured for empirical testing.\n",
    "\n",
    "Criteria for a Good Null Hypothesis: You requested the criteria defining a good null hypothesis. I outlined four main criteria: it must be testable, specific, falsifiable, and simple.\n",
    "\n",
    "Difference Between Null and Alternative Hypothesis: You inquired about the differences between null and alternative hypotheses in hypothesis testing. I explained that the null hypothesis posits no effect or difference, while the alternative hypothesis suggests that an effect or difference exists."
   ]
  },
  {
   "cell_type": "markdown",
   "id": "a38fc3f8",
   "metadata": {},
   "source": [
    "### 2. Towards the end of the \"first pre-lecture\" video (above) it is stated that, \"It is important to note that outcomes of tests refer to the population parameter, rather than the sample statistic! As such, the result that we get is for the population.\" In terms of the distinctions between the concepts of $x_i\\!$'s, $\\bar x$, $\\mu$, and $\\mu_0$, how would you describe what the sentence above means? Explain this concisely in your own words for a \"non-statsitical\" audience, defining the technical statistical terminology you use in your answer."
   ]
  },
  {
   "cell_type": "markdown",
   "id": "06137fca",
   "metadata": {},
   "source": [
    "This sentence means that when we conduct a statistical test, we are trying to make conclusions about the entire population, not just the specific sample we measured. The outcome of our test tells us whether the sample results provide enough evidence to support or reject the null hypothesis.\n",
    "1. Outcomes of Tests: When we perform a statistical test, we often want to know something about a larger group (population) based on a smaller group (sample).\n",
    "2. Population Parameter (𝜇) is a fixed value that describes a characteristic of the entire population, such as the average height of all adults in a country.\n",
    "3. Sample Statistic ($\\bar x$) is the value calculated from the sample, like the average height of the people in our sample. This sample average is used to estimate the population parameter.\n",
    "4. Null Hypothesis (𝜇0) is a specific statement we test, usually claiming that there is no effect or no difference. \n",
    "5. $x_i\\!$'s : These are individual values in the sample."
   ]
  },
  {
   "cell_type": "markdown",
   "id": "5e2ee7bf",
   "metadata": {},
   "source": [
    "Summary of getting advice from ChatBot:\n",
    "\n",
    " https://chatgpt.com/share/670f1b88-7234-8012-9187-711969883394\n",
    "\n",
    "Here's a summary of our interaction:\n",
    "1. **Statistical Explanation**: You asked for help explaining a sentence about population parameters and sample statistics in a way that a non-statistical audience could understand. You wanted to clarify the distinctions between \\(x_i\\) (individual sample values), \\(\\bar{x}\\) (sample mean), \\(\\mu\\) (population mean), and \\(\\mu_0\\) (hypothesized population mean).\n",
    "\n",
    "2. **Response**: I provided a breakdown of the key terms using simple language and relatable analogies. I suggested explaining the main idea by emphasizing that test outcomes refer to the entire population rather than just the sample. I also provided an analogy involving students in a school to illustrate how sample results can inform our understanding of the population."
   ]
  },
  {
   "cell_type": "markdown",
   "id": "991444cd",
   "metadata": {},
   "source": [
    "### 3. The second \"Pre-lecture\" video (above) explains that we \"imagine a world where the null hypothesis is true\" when calculating a p-value? Explain why this is in your own words in a way that makes the most sense to you."
   ]
  },
  {
   "cell_type": "markdown",
   "id": "5abae06a",
   "metadata": {},
   "source": [
    "When we calculate a p-value, we imagine what it would be like if the null hypothesis were true. The null hypothesis is a statement that says there is no effect or difference. To find the p-value, we use the sampling distribution of the test statistic, which shows how the sample results would behave if the null hypothesis is correct. If our actual sample results are very unusual compared to this distribution, it means they are unlikely to happen if the null hypothesis is true, which has a small p-value. This small p-value gives us strong evidence to doubt the null hypothesis. Conversely, if our sample results fit well within the expected distribution, we get a large p-value. This means that we don’t have enough evidence to reject the null hypothesis. So, by considering the sampling distribution under the null hypothesis, we can better understand how surprising our sample data is and make informed decisions about the hypothesis."
   ]
  },
  {
   "cell_type": "markdown",
   "id": "8dcbfd07",
   "metadata": {},
   "source": [
    "### 4. The second \"Pre-lecture\" video (above) describes suggest that a smaller p-value makes the null hypothesis look more ridiculous. Explain why this is in your own words in a way that makes the most sense to you, clarifying the meaning of any technical statistical terminology you use in your answer."
   ]
  },
  {
   "cell_type": "markdown",
   "id": "709f9198",
   "metadata": {},
   "source": [
    "A smaller p-value makes the null hypothesis look more ridiculous because it indicates that the observed data is very unlikely to happen if the null hypothesis is true. When we calculate a p-value, we are measuring how extreme our sample results are compared to what we would expect if the null hypothesis were correct. If the p-value is small, it means that the chances of seeing such extreme results just by random chance are very low, making the null hypothesis seem less ridiculous. In contrast, a larger p-value indicates that the observed results are more consistent with the null hypothesis, so it doesn’t seem as unreasonable. \n",
    "\n",
    "Technical statical terminologies:\n",
    "1. p-value: a number that helps us determine how likely the observed sample results would be if the null hypothesis were true.\n",
    "2. Null Hypothesis: a statement that assumes there is no effect or no difference in a given situation.\n",
    "3. Observed Data: This refers to the results we collected from our sample.\n",
    "4. Extreme Results are outcomes that are significantly different from what we would expect under the null hypothesis. These results can suggest that there may be an effect or difference present.\n",
    "5. Believable: refers to how reasonable or credible the null hypothesis appears based on the evidence from the sample data."
   ]
  },
  {
   "cell_type": "markdown",
   "id": "87d4d1f3",
   "metadata": {},
   "source": [
    "Summary of communicating with ChatBot to see its idea about question3 and 4:\n",
    "\n",
    "https://chatgpt.com/share/670f25f0-af48-8012-9725-64fe706e57d3\n",
    "\n",
    "Here’s a summary of our interaction:\n",
    "1. **Null Hypothesis and P-value**: We discussed the phrase \"imagine a world where the null hypothesis is true\" in the context of hypothesis testing and p-values. This concept helps researchers understand the behavior of data under the null hypothesis and interpret the strength of evidence against it.\n",
    "\n",
    "2. **Small P-values**: You brought up the idea that \"a smaller p-value makes the null hypothesis look more ridiculous.\" We explored this idea, explaining that a small p-value indicates strong evidence against the null hypothesis, making it seem less credible. However, we also noted the importance of context and cautioned against misinterpretation, as a small p-value does not definitively prove the null hypothesis is false.\n",
    "\n",
    "Let me know if you need any more details or if there's anything else you'd like to discuss!"
   ]
  },
  {
   "cell_type": "markdown",
   "id": "58bf169d",
   "metadata": {},
   "source": [
    "### 5. Güntürkün (2003) recorded how kissing couples tilt their heads. 80 out of 124 couples, or 64.5% tilted their heads to the right. Simulate a **p-value** using a \"50/50 coin-flipping\" model for the assumption of the **null hypothesis** $H_0$ that the population of humans don't have left or right head tilt tendencies when kissing, and use the table below to determine the level of evidence we have against $H_0$. "
   ]
  },
  {
   "cell_type": "markdown",
   "id": "4313169d",
   "metadata": {},
   "source": [
    "If p>0.1: No evidence against Ho\n",
    "\n",
    "If 0.1≥p> 0.05: Weak evidence against Ho\n",
    "\n",
    "If 0.05≥p> 0.01: Moderate evidence against Ho\n",
    "\n",
    "If 0.01≥p>0.001: Strong evidence against Ho\n",
    "\n",
    "If 0.001≥p: Very strong evidence against Ho\n",
    "\n",
    "When the p-value is small (less than 0.05), it suggests that there is evidence of a preference for head tilting to the right when kissing, supporting the idea that humans may have a tendency in this behavior. "
   ]
  },
  {
   "cell_type": "markdown",
   "id": "868c7fb0",
   "metadata": {},
   "source": [
    "### 6. Can a smaller p-value definitively prove that the null hypothesis is false? Is it possible to definitively prove that Fido (from the \"second pre-lecture video\") is innocent using a p-value? Is it possible to difinitively prove that Fido is guilty using a p-value? How low or high does a p-value have to be to definitely prove one or the other? Explain this concisely in your own words."
   ]
  },
  {
   "cell_type": "markdown",
   "id": "542a2e22",
   "metadata": {},
   "source": [
    "1. Can a smaller p-value definitively prove that the null hypothesis is false? \n",
    "   No, a smaller p-value suggests strong evidence against the null hypothesis but does not provide definitive proof that it is false. Statistical tests can only indicate whether there is enough evidence to reject it.\n",
    "\n",
    "2. Is it possible to definitively prove that Fido is innocent using a p-value? \n",
    "   No, a p-value cannot definitively prove Fido's innocence. It can only show whether there is enough evidence to support the claim of innocence or not.\n",
    "\n",
    "3. Is it possible to definitively prove that Fido is guilty using a p-value?\n",
    "   No, a p-value cannot definitively prove Fido's guilt. It can only provide evidence against the hypothesis of innocence.\n",
    "\n",
    "4. How low or high does a p-value have to be to definitely prove one or the other?  \n",
    "   There is no specific p-value that can definitively prove either side. Instead, p-values help make decisions based on evidence strength (e.g., a common threshold is 0.05 for significance), but they do not lead to absolute conclusions."
   ]
  },
  {
   "cell_type": "markdown",
   "id": "045fc458",
   "metadata": {},
   "source": [
    "Summary of ChatBot:\n",
    "\n",
    "https://chatgpt.com/share/670f2df1-6f34-8012-8f49-4dbc2e5dbc34\n",
    "\n",
    "Here's a summary of our recent interaction:\n",
    "\n",
    "- **P-Values and Hypothesis Testing**: We discussed the meaning of p-values and their role in hypothesis testing, emphasizing that a smaller p-value suggests evidence against the null hypothesis but does not definitively prove it false.\n",
    "- **Fido's Innocence or Guilt**: We examined how p-values relate to claims of innocence or guilt, noting that:\n",
    "  - A high p-value indicates insufficient evidence to reject the null hypothesis (innocence), but does not prove innocence.\n",
    "  - A low p-value suggests evidence against innocence (supporting guilt), but does not definitively prove guilt.\n",
    "- **Definitive Proof**: It was clarified that p-values cannot provide definitive proof of a hypothesis, as statistical testing is probabilistic and involves the possibility of errors.\n"
   ]
  },
  {
   "cell_type": "markdown",
   "id": "4b1dda89",
   "metadata": {},
   "source": [
    "### 7. In the second half of the \"first pre-lecture video\" the concept of a \"one sided\" (or \"one tailed\") test is introduced in contrast to a \"two sided\" (or \"two tailed\") test. Work with a ChatBot to adjust the code from \"Demo II of  the Week 5 TUT\" (which revisits the \"Vaccine Data Analysis Assignment\" from Week 04 HW \"Question 8\") in order to compute a p-value for a \"one sided\" (or \"one tailed\") hypothesis test rather than the \"two sided\" (or \"two tailed\") version it provides. Describe (perhaps with the help of your ChatBot) what changed in the code; how this changes the interpretation of the hypothesis test; and whether or not we should indeed expect the p-value to be smaller in the \"one tailed\" versus \"two tailed\" analysis"
   ]
  },
  {
   "cell_type": "markdown",
   "id": "84c8c4db",
   "metadata": {},
   "source": [
    "Here is how we adjust the code:"
   ]
  },
  {
   "cell_type": "code",
   "execution_count": 12,
   "id": "91ea5a55",
   "metadata": {},
   "outputs": [
    {
     "name": "stdout",
     "output_type": "stream",
     "text": [
      "Patient Data:\n",
      "    HealthScoreChange\n",
      "0                  0\n",
      "1                 -5\n",
      "2                 -2\n",
      "3                 -2\n",
      "4                  2\n",
      "5                  4\n",
      "6                 -2\n",
      "7                  0\n",
      "8                 -3\n",
      "9                 -1\n",
      "Observed Proportion: 0.2\n",
      "P-value (one-tailed): 0.9885\n"
     ]
    }
   ],
   "source": [
    "import numpy as np\n",
    "import pandas as pd\n",
    "\n",
    "# Example data: creating a sample patient_data DataFrame\n",
    "np.random.seed(0)  # For reproducibility\n",
    "n_patients = 10  # Adjust this number as needed\n",
    "# Simulating health score changes, for example, between -5 and 5\n",
    "health_score_changes = np.random.randint(-5, 6, size=n_patients)\n",
    "\n",
    "# Create the patient_data DataFrame\n",
    "patient_data = pd.DataFrame({'HealthScoreChange': health_score_changes})\n",
    "\n",
    "# Display the simulated patient data\n",
    "print(\"Patient Data:\\n\", patient_data)\n",
    "\n",
    "# Now proceed with the hypothesis testing simulation\n",
    "np.random.seed(1)  # Make simulation reproducible\n",
    "number_of_simulations = 10000\n",
    "IncreaseProportionSimulations_underH0random = np.zeros(number_of_simulations)\n",
    "\n",
    "# Generate \"random improvement\" proportions assuming H0 (vaccine has no average effect) is true\n",
    "for i in range(number_of_simulations):\n",
    "    # Generate random choices for whether each patient improves (1) or not (0)\n",
    "    random_improvement = np.random.choice([0, 1], size=len(patient_data), replace=True)  \n",
    "    # Calculate the proportion of patients who improved (1)\n",
    "    IncreaseProportionSimulations_underH0random[i] = random_improvement.mean()\n",
    "\n",
    "# Calculate the observed proportion of improvements from the actual data\n",
    "observed_proportion = (patient_data['HealthScoreChange'] > 0).mean()\n",
    "\n",
    "# Calculate the p-value for a one-tailed test\n",
    "p_value_one_tailed = (IncreaseProportionSimulations_underH0random >= observed_proportion).mean()\n",
    "\n",
    "# Print results\n",
    "print(f\"Observed Proportion: {observed_proportion}\")\n",
    "print(f\"P-value (one-tailed): {p_value_one_tailed}\")\n"
   ]
  },
  {
   "cell_type": "markdown",
   "id": "d315a50d",
   "metadata": {},
   "source": [
    "Summary of Using ChatBot:\n",
    "\n",
    "https://chatgpt.com/share/670f3818-e198-8012-bc79-8d5fadea72b1\n",
    "\n",
    "\n",
    "1. **Hypothesis Testing**: You explained a method to test a vaccine's effectiveness using random health score changes to simulate a null hypothesis.\n",
    "\n",
    "2. **One-Tailed Test Code**: I provided Python code to calculate a one-tailed p-value, focusing on improvement proportions.\n",
    "\n",
    "3. **Sample Data**: I supplied a complete example, including how to create sample data for testing.\n",
    "\n",
    "4. **One-Tailed vs. Two-Tailed**: I clarified that one-tailed tests look for specific directionality and generally yield smaller p-values."
   ]
  },
  {
   "cell_type": "markdown",
   "id": "b4978497",
   "metadata": {},
   "source": [
    "### 8. Complete the following assignment. \n",
    "### Fisher's Tea Experiment"
   ]
  },
  {
   "cell_type": "markdown",
   "id": "9f04eef1",
   "metadata": {},
   "source": [
    "# Problem Introduction\n",
    "The purpose of this analysis is to investigate whether students can distinguish between tea poured with milk first and tea poured with milk added afterward. We will assess this using a sample of students, who have reported their ability to identify the order of pouring.\n",
    "\n",
    "# Relationship Between This Experiment and the Original with Fisher and Bristol\n",
    "In Fisher’s original experiment, Dr. Bristol was able to identify the order of pouring for all 8 cups of tea, prompting Fisher to question whether this could occur by chance. In our modified experiment with 80 students, we aim to determine if the observed success rate of 49 out of 80 students (61.25%) identifying the pouring order exceeds what would be expected by random guessing.\n",
    "\n",
    "# Statements of the Null Hypothesis and Alternative Hypothesis\n",
    "1. Null Hypothesis (H₀):\n",
    "The null hypothesis states that the proportion of students who can correctly identify the pouring order is equal to chance. Formally, this can be represented as:\n",
    "𝐻0: 𝑝=0.5\n",
    "where 𝑝 is the population proportion of students who can correctly identify the order of pouring.\n",
    "\n",
    "2. Informal Interpretive Statement:\n",
    "In everyday terms, the null hypothesis means we assume that the students are just guessing, and thus we expect about half of them to get it right purely by chance.\n",
    "\n",
    "3. Alternative Hypothesis (Hₐ):\n",
    "The alternative hypothesis suggests that the proportion of students who can correctly identify the pouring order is different from what we would expect by chance:\n",
    "𝐻𝐴:𝑝≠0.5\n",
    "\n",
    "# Quantitative Analysis Addressing the Validity of H₀\n",
    "1. Explanation of the Method\n",
    "To test our null hypothesis, we will simulate a sampling distribution under \n",
    "𝐻0. By generating random samples of 80 students guessing (with a probability of 0.5 for correct identification), we will calculate the p-value corresponding to our observed result of 49 correct identifications.\n",
    "2. Code Explanation:\n"
   ]
  },
  {
   "cell_type": "code",
   "execution_count": 9,
   "id": "96f5a803",
   "metadata": {},
   "outputs": [
    {
     "name": "stdout",
     "output_type": "stream",
     "text": [
      "Observed correct identifications: 49\n",
      "Simulated p-value: 0.0294\n"
     ]
    },
    {
     "data": {
      "image/png": "[encoded data removed]",
      "text/plain": [
       "<Figure size 640x480 with 1 Axes>"
      ]
     },
     "metadata": {},
     "output_type": "display_data"
    }
   ],
   "source": [
    "import numpy as np\n",
    "import matplotlib.pyplot as plt\n",
    "\n",
    "# Set the random seed for reproducibility\n",
    "np.random.seed(42)\n",
    "\n",
    "# Parameters\n",
    "n_students = 80  # Total students\n",
    "n_correct = 49   # Correct identifications\n",
    "n_simulations = 10000  # Number of simulations\n",
    "\n",
    "# Simulate guessing\n",
    "simulated_correct = np.random.binomial(n_students, 0.5, n_simulations)\n",
    "\n",
    "# Calculate the p-value\n",
    "p_value = np.mean(simulated_correct >= n_correct)\n",
    "\n",
    "# Display results\n",
    "print(f\"Observed correct identifications: {n_correct}\")\n",
    "print(f\"Simulated p-value: {p_value:.4f}\")\n",
    "\n",
    "# Optional: Visualize the distribution of simulated correct identifications\n",
    "plt.hist(simulated_correct, bins=30, alpha=0.7, color='blue', edgecolor='black')\n",
    "plt.axvline(n_correct, color='red', linestyle='dashed', linewidth=1, label='Observed Correct')\n",
    "plt.title('Simulated Correct Identifications Distribution')\n",
    "plt.xlabel('Number of Correct Identifications')\n",
    "plt.ylabel('Frequency')\n",
    "plt.legend()\n",
    "plt.show()\n"
   ]
  },
  {
   "cell_type": "markdown",
   "id": "a48069a2",
   "metadata": {},
   "source": [
    "# Findings and Discussion\n",
    "Assuming we obtained a p-value of 0.04.\n",
    "Interpretation of the p-value:\n",
    "Using the provided p-value interpretation table, a p-value of 0.04 falls within the range of \n",
    "0.01≥𝑝>0.001, indicating strong evidence against the null hypothesis. This suggests that it is unlikely that the 49 correct identifications happened purely by chance.\n",
    "\n",
    "# Conclusion Regarding the Null Hypothesis\n",
    "Based on our analysis, we reject the null hypothesis 𝐻0 and conclude that there is significant evidence to suggest that students can distinguish between tea poured with milk first and tea added afterward. This result indicates that students may have a discernible preference or ability to taste the difference based on the order of pouring."
   ]
  },
  {
   "cell_type": "markdown",
   "id": "257cd68d",
   "metadata": {},
   "source": [
    "\n"
   ]
  },
  {
   "cell_type": "markdown",
   "id": "ae529dd9",
   "metadata": {},
   "source": [
    "Summary of Using ChatBot:\n",
    "    \n",
    "    https://chatgpt.com/share/670f3698-20d4-8012-bdb2-7e06734fb9a1\n",
    "\n",
    "1. **Determining Population, Sample, and Parameter**: We discussed how to identify the population, sample, parameter of interest, and the observed test statistic in a statistical study.\n",
    "\n",
    "2. **Formulating Null Hypotheses \\( H_0 \\)**: I explained how to define a formal null hypothesis based on the parameter of interest, providing examples for mean and proportion comparisons.\n",
    "\n",
    "3. **Formulating Alternative Hypotheses \\( H_A \\)**: We covered how to create an alternative hypothesis that contradicts \\( H_0 \\), detailing the differences between one-tailed and two-tailed hypotheses.\n",
    "\n",
    "4. **Articulating the Method**: I provided a structured approach to explain the statistical method used to address \\( H_0 \\), including stating the research question, identifying the population parameter, describing the sample and data collection method, outlining the statistical methods, and interpreting results."
   ]
  },
  {
   "cell_type": "markdown",
   "id": "cfc34a6e",
   "metadata": {},
   "source": [
    "### 9. Have you reviewed the course wiki-textbook and interacted with a ChatBot (or, if that wasn't sufficient, real people in the course piazza discussion board or TA office hours) to help you understand all the material in the tutorial and lecture that you didn't quite follow when you first saw it?"
   ]
  },
  {
   "cell_type": "markdown",
   "id": "e05a38e6",
   "metadata": {},
   "source": [
    "Yes"
   ]
  }
 ],
 "metadata": {
  "kernelspec": {
   "display_name": "Python 3 (ipykernel)",
   "language": "python",
   "name": "python3"
  },
  "language_info": {
   "codemirror_mode": {
    "name": "ipython",
    "version": 3
   },
   "file_extension": ".py",
   "mimetype": "text/x-python",
   "name": "python",
   "nbconvert_exporter": "python",
   "pygments_lexer": "ipython3",
   "version": "3.11.6"
  }
 },
 "nbformat": 4,
 "nbformat_minor": 5
}
